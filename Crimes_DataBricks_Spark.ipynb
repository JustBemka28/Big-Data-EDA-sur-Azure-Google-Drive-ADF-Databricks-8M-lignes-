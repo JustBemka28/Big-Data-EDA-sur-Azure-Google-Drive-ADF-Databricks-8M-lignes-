{
 "cells": [
  {
   "cell_type": "code",
   "execution_count": 0,
   "metadata": {
    "application/vnd.databricks.v1+cell": {
     "cellMetadata": {
      "byteLimit": 2048000,
      "rowLimit": 10000
     },
     "inputWidgets": {},
     "nuid": "81db0f47-b9ce-4946-9103-b2a40cc2f0f3",
     "showTitle": false,
     "tableResultSettingsMap": {},
     "title": ""
    }
   },
   "outputs": [],
   "source": [
    "# 1. Configurer l'accès au compte de stockage Azure\n",
    "spark.conf.set(\n",
    "    \"fs.azure.account.key.crimestockage28.blob.core.windows.net\",\n",
    "    \"<<Clé d'accées de votre compte de stockage d'azure>>\"\n",
    ")"
   ]
  },
  {
   "cell_type": "code",
   "execution_count": 0,
   "metadata": {
    "application/vnd.databricks.v1+cell": {
     "cellMetadata": {
      "byteLimit": 2048000,
      "rowLimit": 10000
     },
     "inputWidgets": {},
     "nuid": "7ba5f96e-8a1a-47f6-89bb-8c91b1393d6e",
     "showTitle": false,
     "tableResultSettingsMap": {},
     "title": ""
    }
   },
   "outputs": [],
   "source": [
    "# 2. Lire le fichier CSV depuis le conteneur Azure Blob\n",
    "df = spark.read.format(\"csv\") \\\n",
    "    .option(\"header\", \"true\") \\\n",
    "    .option(\"inferSchema\", \"true\") \\\n",
    "    .load(\"wasbs://crimesdatabrutes@crimestockage28.blob.core.windows.net/Crimes.csv\")"
   ]
  },
  {
   "cell_type": "code",
   "execution_count": 0,
   "metadata": {
    "application/vnd.databricks.v1+cell": {
     "cellMetadata": {
      "byteLimit": 2048000,
      "rowLimit": 10000
     },
     "inputWidgets": {},
     "nuid": "9487180a-bb79-49d4-9179-459dcfee0d5b",
     "showTitle": false,
     "tableResultSettingsMap": {},
     "title": ""
    }
   },
   "outputs": [],
   "source": [
    "from pyspark.sql.functions import col\n",
    "from functools import reduce\n",
    "from pyspark.sql.functions import sum\n",
    "from pyspark.sql.functions import count\n",
    "from pyspark.sql.functions import to_date\n",
    "\n",
    "from pyspark.sql.functions import regexp_replace, to_timestamp"
   ]
  },
  {
   "cell_type": "code",
   "execution_count": 0,
   "metadata": {
    "application/vnd.databricks.v1+cell": {
     "cellMetadata": {
      "byteLimit": 2048000,
      "rowLimit": 10000
     },
     "inputWidgets": {},
     "nuid": "c4f5690c-3a2e-4188-8ef5-9b75bc9fa3f8",
     "showTitle": false,
     "tableResultSettingsMap": {},
     "title": ""
    }
   },
   "outputs": [],
   "source": [
    "import seaborn as sns\n",
    "import matplotlib.pyplot as plt"
   ]
  },
  {
   "cell_type": "code",
   "execution_count": 0,
   "metadata": {
    "application/vnd.databricks.v1+cell": {
     "cellMetadata": {
      "byteLimit": 2048000,
      "rowLimit": 10000
     },
     "inputWidgets": {},
     "nuid": "4704dd45-4852-4ab0-87b6-e67549f59d39",
     "showTitle": false,
     "tableResultSettingsMap": {},
     "title": ""
    }
   },
   "outputs": [
    {
     "name": "stdout",
     "output_type": "stream",
     "text": [
      "+--------+-----------+--------------------+--------------------+----+--------------------+--------------------+--------------------+------+--------+----+--------+----+--------------+--------+------------+------------+----+--------------------+------------+-------------+--------------------+\n",
      "|      ID|Case Number|                Date|               Block|IUCR|        Primary Type|         Description|Location Description|Arrest|Domestic|Beat|District|Ward|Community Area|FBI Code|X Coordinate|Y Coordinate|Year|          Updated On|    Latitude|    Longitude|            Location|\n",
      "+--------+-----------+--------------------+--------------------+----+--------------------+--------------------+--------------------+------+--------+----+--------+----+--------------+--------+------------+------------+----+--------------------+------------+-------------+--------------------+\n",
      "|13311263|   JG503434|07/29/2022 03:39:...|     023XX S TROY ST|1582|OFFENSE INVOLVING...|   CHILD PORNOGRAPHY|           RESIDENCE|  true|   false|1033|      10|  25|            30|      17|        null|        null|2022|04/18/2024 03:40:...|        null|         null|                null|\n",
      "|13053066|   JG103252|01/03/2023 04:44:...|039XX W WASHINGTO...|2017|           NARCOTICS|MANUFACTURE / DEL...|            SIDEWALK|  true|   false|1122|      11|  28|            26|      18|        null|        null|2023|01/20/2024 03:41:...|        null|         null|                null|\n",
      "|12131221|   JD327000|08/10/2020 09:45:...|   015XX N DAMEN AVE|0326|             ROBBERY|AGGRAVATED VEHICU...|              STREET|  true|   false|1424|      14|   1|            24|      03|     1162795|     1909900|2020|05/17/2025 03:40:...|41.908417822| -87.67740693|(41.908417822, -8...|\n",
      "|11227634|   JB147599|08/26/2017 10:00:...| 001XX W RANDOLPH ST|0281| CRIM SEXUAL ASSAULT|      NON-AGGRAVATED|         HOTEL/MOTEL| false|   false| 122|       1|  42|            32|      02|        null|        null|2017|02/11/2018 03:57:...|        null|         null|                null|\n",
      "|13203321|   JG415333|09/06/2023 05:00:...|    002XX N Wells st|1320|     CRIMINAL DAMAGE|          TO VEHICLE|PARKING LOT / GAR...| false|   false| 122|       1|  42|            32|      14|     1174694|     1901831|2023|11/04/2023 03:40:...|41.886018055|-87.633937881|(41.886018055, -8...|\n",
      "+--------+-----------+--------------------+--------------------+----+--------------------+--------------------+--------------------+------+--------+----+--------+----+--------------+--------+------------+------------+----+--------------------+------------+-------------+--------------------+\n",
      "only showing top 5 rows\n",
      "\n"
     ]
    }
   ],
   "source": [
    "#Afficher les premiere lignes du dataframe\n",
    "df.show(5)"
   ]
  },
  {
   "cell_type": "code",
   "execution_count": 0,
   "metadata": {
    "application/vnd.databricks.v1+cell": {
     "cellMetadata": {
      "byteLimit": 2048000,
      "rowLimit": 10000
     },
     "inputWidgets": {},
     "nuid": "0db3524b-7921-4396-bd5c-86885791ad5e",
     "showTitle": false,
     "tableResultSettingsMap": {},
     "title": ""
    }
   },
   "outputs": [
    {
     "name": "stdout",
     "output_type": "stream",
     "text": [
      "Out[12]: ['ID',\n",
      " 'Case Number',\n",
      " 'Date',\n",
      " 'Block',\n",
      " 'IUCR',\n",
      " 'Primary Type',\n",
      " 'Description',\n",
      " 'Location Description',\n",
      " 'Arrest',\n",
      " 'Domestic',\n",
      " 'Beat',\n",
      " 'District',\n",
      " 'Ward',\n",
      " 'Community Area',\n",
      " 'FBI Code',\n",
      " 'X Coordinate',\n",
      " 'Y Coordinate',\n",
      " 'Year',\n",
      " 'Updated On',\n",
      " 'Latitude',\n",
      " 'Longitude',\n",
      " 'Location']"
     ]
    }
   ],
   "source": [
    "df.columns"
   ]
  },
  {
   "cell_type": "code",
   "execution_count": 0,
   "metadata": {
    "application/vnd.databricks.v1+cell": {
     "cellMetadata": {
      "byteLimit": 2048000,
      "rowLimit": 10000
     },
     "inputWidgets": {},
     "nuid": "f176488a-504a-4905-8102-830c4e53f195",
     "showTitle": false,
     "tableResultSettingsMap": {},
     "title": ""
    }
   },
   "outputs": [
    {
     "name": "stdout",
     "output_type": "stream",
     "text": [
      "root\n",
      " |-- ID: integer (nullable = true)\n",
      " |-- Case Number: string (nullable = true)\n",
      " |-- Date: string (nullable = true)\n",
      " |-- Block: string (nullable = true)\n",
      " |-- IUCR: string (nullable = true)\n",
      " |-- Primary Type: string (nullable = true)\n",
      " |-- Description: string (nullable = true)\n",
      " |-- Location Description: string (nullable = true)\n",
      " |-- Arrest: boolean (nullable = true)\n",
      " |-- Domestic: boolean (nullable = true)\n",
      " |-- Beat: integer (nullable = true)\n",
      " |-- District: integer (nullable = true)\n",
      " |-- Ward: integer (nullable = true)\n",
      " |-- Community Area: integer (nullable = true)\n",
      " |-- FBI Code: string (nullable = true)\n",
      " |-- X Coordinate: integer (nullable = true)\n",
      " |-- Y Coordinate: integer (nullable = true)\n",
      " |-- Year: integer (nullable = true)\n",
      " |-- Updated On: string (nullable = true)\n",
      " |-- Latitude: double (nullable = true)\n",
      " |-- Longitude: double (nullable = true)\n",
      " |-- Location: string (nullable = true)\n",
      "\n"
     ]
    }
   ],
   "source": [
    "df.printSchema()"
   ]
  },
  {
   "cell_type": "code",
   "execution_count": 0,
   "metadata": {
    "application/vnd.databricks.v1+cell": {
     "cellMetadata": {
      "byteLimit": 2048000,
      "rowLimit": 10000
     },
     "inputWidgets": {},
     "nuid": "0afd0db1-455f-4469-a13e-3735693d65ba",
     "showTitle": false,
     "tableResultSettingsMap": {},
     "title": ""
    }
   },
   "outputs": [
    {
     "name": "stdout",
     "output_type": "stream",
     "text": [
      "+-------+------------------+------------------+--------------------+--------------+------------------+-----------------+---------------+--------------------+------------------+------------------+------------------+------------------+------------------+------------------+------------------+------------------+--------------------+-------------------+------------------+--------------------+\n",
      "|summary|                ID|       Case Number|                Date|         Block|              IUCR|     Primary Type|    Description|Location Description|              Beat|          District|              Ward|    Community Area|          FBI Code|      X Coordinate|      Y Coordinate|              Year|          Updated On|           Latitude|         Longitude|            Location|\n",
      "+-------+------------------+------------------+--------------------+--------------+------------------+-----------------+---------------+--------------------+------------------+------------------+------------------+------------------+------------------+------------------+------------------+------------------+--------------------+-------------------+------------------+--------------------+\n",
      "|  count|           8351384|           8351384|             8351384|       8351384|           8351384|          8351384|        8351384|             8336876|           8351384|           8351337|           7736561|           7737691|           8351384|           8258203|           8258203|           8351384|             8351384|            8258203|           8258203|             8258203|\n",
      "|   mean| 7461291.005172796|          277222.5|                null|          null|1116.7413059129221|             null|           null|                null|1183.8912122828983|11.297054471637296|22.783190231421944| 37.39181662850067|11.995833287827091|1164645.8226977468|1885900.3611313503|2010.8856600295233|                null|  41.84250493208478|-87.67132523044152|                null|\n",
      "| stddev|3750374.4633049886|155025.77649001902|                null|          null| 811.0389897849515|             null|           null|                null| 703.6623734045777| 6.962472121984119|13.857469617417479|21.547131117606742| 7.277339448923567|16958.791392961044|32439.833212872483| 6.983716046900714|                null|0.08925331440194141|0.0614537287769165|                null|\n",
      "|    min|               634|         01G050460|01/01/2001 01:00:...|0000X E 100 PL|              0110|            ARSON| $300 AND UNDER|\"CTA \"\"L\"\" PLATFORM\"|               111|                 1|                 1|                 0|               01A|                 0|                 0|              2001|01/01/2007 07:32:...|       36.619446395|     -91.686565684|(36.619446395, -9...|\n",
      "|    max|          13892302|         ZZZ199957|12/31/2024 12:58:...|          XX S|              9901|WEAPONS VIOLATION|WIREROOM/SPORTS|                YMCA|              2535|                31|                50|                77|                27|           1205119|           1951622|              2025|12/31/2024 03:41:...|       42.022910333|     -87.524529378|(42.022910333, -8...|\n",
      "+-------+------------------+------------------+--------------------+--------------+------------------+-----------------+---------------+--------------------+------------------+------------------+------------------+------------------+------------------+------------------+------------------+------------------+--------------------+-------------------+------------------+--------------------+\n",
      "\n"
     ]
    }
   ],
   "source": [
    "df.describe().show()"
   ]
  },
  {
   "cell_type": "code",
   "execution_count": 0,
   "metadata": {
    "application/vnd.databricks.v1+cell": {
     "cellMetadata": {
      "byteLimit": 2048000,
      "rowLimit": 10000
     },
     "inputWidgets": {},
     "nuid": "8cded0e2-a5c5-4c56-b4cb-3f182d875e63",
     "showTitle": false,
     "tableResultSettingsMap": {},
     "title": ""
    }
   },
   "outputs": [
    {
     "data": {
      "text/html": [
       "<div>\n",
       "<style scoped>\n",
       "    .dataframe tbody tr th:only-of-type {\n",
       "        vertical-align: middle;\n",
       "    }\n",
       "\n",
       "    .dataframe tbody tr th {\n",
       "        vertical-align: top;\n",
       "    }\n",
       "\n",
       "    .dataframe thead th {\n",
       "        text-align: right;\n",
       "    }\n",
       "</style>\n",
       "<table border=\"1\" class=\"dataframe\">\n",
       "  <thead>\n",
       "    <tr style=\"text-align: right;\">\n",
       "      <th></th>\n",
       "      <th>summary</th>\n",
       "      <th>ID</th>\n",
       "      <th>Case Number</th>\n",
       "      <th>Date</th>\n",
       "      <th>Block</th>\n",
       "      <th>IUCR</th>\n",
       "      <th>Primary Type</th>\n",
       "      <th>Description</th>\n",
       "      <th>Location Description</th>\n",
       "      <th>Beat</th>\n",
       "      <th>...</th>\n",
       "      <th>Ward</th>\n",
       "      <th>Community Area</th>\n",
       "      <th>FBI Code</th>\n",
       "      <th>X Coordinate</th>\n",
       "      <th>Y Coordinate</th>\n",
       "      <th>Year</th>\n",
       "      <th>Updated On</th>\n",
       "      <th>Latitude</th>\n",
       "      <th>Longitude</th>\n",
       "      <th>Location</th>\n",
       "    </tr>\n",
       "  </thead>\n",
       "  <tbody>\n",
       "    <tr>\n",
       "      <th>0</th>\n",
       "      <td>count</td>\n",
       "      <td>8351384</td>\n",
       "      <td>8351384</td>\n",
       "      <td>8351384</td>\n",
       "      <td>8351384</td>\n",
       "      <td>8351384</td>\n",
       "      <td>8351384</td>\n",
       "      <td>8351384</td>\n",
       "      <td>8336876</td>\n",
       "      <td>8351384</td>\n",
       "      <td>...</td>\n",
       "      <td>7736561</td>\n",
       "      <td>7737691</td>\n",
       "      <td>8351384</td>\n",
       "      <td>8258203</td>\n",
       "      <td>8258203</td>\n",
       "      <td>8351384</td>\n",
       "      <td>8351384</td>\n",
       "      <td>8258203</td>\n",
       "      <td>8258203</td>\n",
       "      <td>8258203</td>\n",
       "    </tr>\n",
       "    <tr>\n",
       "      <th>1</th>\n",
       "      <td>mean</td>\n",
       "      <td>7461291.005172796</td>\n",
       "      <td>277222.5</td>\n",
       "      <td>None</td>\n",
       "      <td>None</td>\n",
       "      <td>1116.7413059129221</td>\n",
       "      <td>None</td>\n",
       "      <td>None</td>\n",
       "      <td>None</td>\n",
       "      <td>1183.8912122828983</td>\n",
       "      <td>...</td>\n",
       "      <td>22.783190231421944</td>\n",
       "      <td>37.39181662850067</td>\n",
       "      <td>11.995833287827091</td>\n",
       "      <td>1164645.8226977468</td>\n",
       "      <td>1885900.3611313503</td>\n",
       "      <td>2010.8856600295233</td>\n",
       "      <td>None</td>\n",
       "      <td>41.84250493208478</td>\n",
       "      <td>-87.67132523044152</td>\n",
       "      <td>None</td>\n",
       "    </tr>\n",
       "    <tr>\n",
       "      <th>2</th>\n",
       "      <td>stddev</td>\n",
       "      <td>3750374.4633049886</td>\n",
       "      <td>155025.77649001902</td>\n",
       "      <td>None</td>\n",
       "      <td>None</td>\n",
       "      <td>811.0389897849515</td>\n",
       "      <td>None</td>\n",
       "      <td>None</td>\n",
       "      <td>None</td>\n",
       "      <td>703.6623734045777</td>\n",
       "      <td>...</td>\n",
       "      <td>13.857469617417479</td>\n",
       "      <td>21.547131117606742</td>\n",
       "      <td>7.277339448923567</td>\n",
       "      <td>16958.791392961044</td>\n",
       "      <td>32439.833212872483</td>\n",
       "      <td>6.983716046900714</td>\n",
       "      <td>None</td>\n",
       "      <td>0.08925331440194141</td>\n",
       "      <td>0.0614537287769165</td>\n",
       "      <td>None</td>\n",
       "    </tr>\n",
       "    <tr>\n",
       "      <th>3</th>\n",
       "      <td>min</td>\n",
       "      <td>634</td>\n",
       "      <td>01G050460</td>\n",
       "      <td>01/01/2001 01:00:00 AM</td>\n",
       "      <td>0000X E 100 PL</td>\n",
       "      <td>0110</td>\n",
       "      <td>ARSON</td>\n",
       "      <td>$300 AND UNDER</td>\n",
       "      <td>\"CTA \"\"L\"\" PLATFORM\"</td>\n",
       "      <td>111</td>\n",
       "      <td>...</td>\n",
       "      <td>1</td>\n",
       "      <td>0</td>\n",
       "      <td>01A</td>\n",
       "      <td>0</td>\n",
       "      <td>0</td>\n",
       "      <td>2001</td>\n",
       "      <td>01/01/2007 07:32:02 AM</td>\n",
       "      <td>36.619446395</td>\n",
       "      <td>-91.686565684</td>\n",
       "      <td>(36.619446395, -91.686565684)</td>\n",
       "    </tr>\n",
       "    <tr>\n",
       "      <th>4</th>\n",
       "      <td>max</td>\n",
       "      <td>13892302</td>\n",
       "      <td>ZZZ199957</td>\n",
       "      <td>12/31/2024 12:58:00 PM</td>\n",
       "      <td>XX S</td>\n",
       "      <td>9901</td>\n",
       "      <td>WEAPONS VIOLATION</td>\n",
       "      <td>WIREROOM/SPORTS</td>\n",
       "      <td>YMCA</td>\n",
       "      <td>2535</td>\n",
       "      <td>...</td>\n",
       "      <td>50</td>\n",
       "      <td>77</td>\n",
       "      <td>27</td>\n",
       "      <td>1205119</td>\n",
       "      <td>1951622</td>\n",
       "      <td>2025</td>\n",
       "      <td>12/31/2024 03:41:27 PM</td>\n",
       "      <td>42.022910333</td>\n",
       "      <td>-87.524529378</td>\n",
       "      <td>(42.022910333, -87.677192004)</td>\n",
       "    </tr>\n",
       "  </tbody>\n",
       "</table>\n",
       "<p>5 rows × 21 columns</p>\n",
       "</div>"
      ]
     },
     "metadata": {
      "application/vnd.databricks.v1+output": {
       "addedWidgets": {},
       "arguments": {},
       "data": "<div>\n<style scoped>\n    .dataframe tbody tr th:only-of-type {\n        vertical-align: middle;\n    }\n\n    .dataframe tbody tr th {\n        vertical-align: top;\n    }\n\n    .dataframe thead th {\n        text-align: right;\n    }\n</style>\n<table border=\"1\" class=\"dataframe\">\n  <thead>\n    <tr style=\"text-align: right;\">\n      <th></th>\n      <th>summary</th>\n      <th>ID</th>\n      <th>Case Number</th>\n      <th>Date</th>\n      <th>Block</th>\n      <th>IUCR</th>\n      <th>Primary Type</th>\n      <th>Description</th>\n      <th>Location Description</th>\n      <th>Beat</th>\n      <th>...</th>\n      <th>Ward</th>\n      <th>Community Area</th>\n      <th>FBI Code</th>\n      <th>X Coordinate</th>\n      <th>Y Coordinate</th>\n      <th>Year</th>\n      <th>Updated On</th>\n      <th>Latitude</th>\n      <th>Longitude</th>\n      <th>Location</th>\n    </tr>\n  </thead>\n  <tbody>\n    <tr>\n      <th>0</th>\n      <td>count</td>\n      <td>8351384</td>\n      <td>8351384</td>\n      <td>8351384</td>\n      <td>8351384</td>\n      <td>8351384</td>\n      <td>8351384</td>\n      <td>8351384</td>\n      <td>8336876</td>\n      <td>8351384</td>\n      <td>...</td>\n      <td>7736561</td>\n      <td>7737691</td>\n      <td>8351384</td>\n      <td>8258203</td>\n      <td>8258203</td>\n      <td>8351384</td>\n      <td>8351384</td>\n      <td>8258203</td>\n      <td>8258203</td>\n      <td>8258203</td>\n    </tr>\n    <tr>\n      <th>1</th>\n      <td>mean</td>\n      <td>7461291.005172796</td>\n      <td>277222.5</td>\n      <td>None</td>\n      <td>None</td>\n      <td>1116.7413059129221</td>\n      <td>None</td>\n      <td>None</td>\n      <td>None</td>\n      <td>1183.8912122828983</td>\n      <td>...</td>\n      <td>22.783190231421944</td>\n      <td>37.39181662850067</td>\n      <td>11.995833287827091</td>\n      <td>1164645.8226977468</td>\n      <td>1885900.3611313503</td>\n      <td>2010.8856600295233</td>\n      <td>None</td>\n      <td>41.84250493208478</td>\n      <td>-87.67132523044152</td>\n      <td>None</td>\n    </tr>\n    <tr>\n      <th>2</th>\n      <td>stddev</td>\n      <td>3750374.4633049886</td>\n      <td>155025.77649001902</td>\n      <td>None</td>\n      <td>None</td>\n      <td>811.0389897849515</td>\n      <td>None</td>\n      <td>None</td>\n      <td>None</td>\n      <td>703.6623734045777</td>\n      <td>...</td>\n      <td>13.857469617417479</td>\n      <td>21.547131117606742</td>\n      <td>7.277339448923567</td>\n      <td>16958.791392961044</td>\n      <td>32439.833212872483</td>\n      <td>6.983716046900714</td>\n      <td>None</td>\n      <td>0.08925331440194141</td>\n      <td>0.0614537287769165</td>\n      <td>None</td>\n    </tr>\n    <tr>\n      <th>3</th>\n      <td>min</td>\n      <td>634</td>\n      <td>01G050460</td>\n      <td>01/01/2001 01:00:00 AM</td>\n      <td>0000X E 100 PL</td>\n      <td>0110</td>\n      <td>ARSON</td>\n      <td>$300 AND UNDER</td>\n      <td>\"CTA \"\"L\"\" PLATFORM\"</td>\n      <td>111</td>\n      <td>...</td>\n      <td>1</td>\n      <td>0</td>\n      <td>01A</td>\n      <td>0</td>\n      <td>0</td>\n      <td>2001</td>\n      <td>01/01/2007 07:32:02 AM</td>\n      <td>36.619446395</td>\n      <td>-91.686565684</td>\n      <td>(36.619446395, -91.686565684)</td>\n    </tr>\n    <tr>\n      <th>4</th>\n      <td>max</td>\n      <td>13892302</td>\n      <td>ZZZ199957</td>\n      <td>12/31/2024 12:58:00 PM</td>\n      <td>XX S</td>\n      <td>9901</td>\n      <td>WEAPONS VIOLATION</td>\n      <td>WIREROOM/SPORTS</td>\n      <td>YMCA</td>\n      <td>2535</td>\n      <td>...</td>\n      <td>50</td>\n      <td>77</td>\n      <td>27</td>\n      <td>1205119</td>\n      <td>1951622</td>\n      <td>2025</td>\n      <td>12/31/2024 03:41:27 PM</td>\n      <td>42.022910333</td>\n      <td>-87.524529378</td>\n      <td>(42.022910333, -87.677192004)</td>\n    </tr>\n  </tbody>\n</table>\n<p>5 rows × 21 columns</p>\n</div>",
       "datasetInfos": [],
       "metadata": {},
       "removedWidgets": [],
       "textData": null,
       "type": "htmlSandbox"
      }
     },
     "output_type": "display_data"
    }
   ],
   "source": [
    "df.describe().toPandas()"
   ]
  },
  {
   "cell_type": "code",
   "execution_count": 0,
   "metadata": {
    "application/vnd.databricks.v1+cell": {
     "cellMetadata": {
      "byteLimit": 2048000,
      "rowLimit": 10000
     },
     "inputWidgets": {},
     "nuid": "465f61aa-eba6-4a65-9a37-bf31b0fc2720",
     "showTitle": false,
     "tableResultSettingsMap": {},
     "title": ""
    }
   },
   "outputs": [
    {
     "name": "stdout",
     "output_type": "stream",
     "text": [
      "+---+-----------+----+-----+----+------------+-----------+--------------------+------+--------+----+--------+------+--------------+--------+------------+------------+----+----------+--------+---------+--------+\n",
      "| ID|Case Number|Date|Block|IUCR|Primary Type|Description|Location Description|Arrest|Domestic|Beat|District|  Ward|Community Area|FBI Code|X Coordinate|Y Coordinate|Year|Updated On|Latitude|Longitude|Location|\n",
      "+---+-----------+----+-----+----+------------+-----------+--------------------+------+--------+----+--------+------+--------------+--------+------------+------------+----+----------+--------+---------+--------+\n",
      "|  0|          0|   0|    0|   0|           0|          0|               14508|     0|       0|   0|      47|614823|        613693|       0|       93181|       93181|   0|         0|   93181|    93181|   93181|\n",
      "+---+-----------+----+-----+----+------------+-----------+--------------------+------+--------+----+--------+------+--------------+--------+------------+------------+----+----------+--------+---------+--------+\n",
      "\n"
     ]
    }
   ],
   "source": [
    "df.select([\n",
    "    sum(col(c).isNull().cast(\"int\")).alias(c)\n",
    "    for c in df.columns\n",
    "]).show()"
   ]
  },
  {
   "cell_type": "markdown",
   "metadata": {
    "application/vnd.databricks.v1+cell": {
     "cellMetadata": {},
     "inputWidgets": {},
     "nuid": "7a4569d0-9df7-48b8-9c0b-96f7a893404c",
     "showTitle": false,
     "tableResultSettingsMap": {},
     "title": ""
    }
   },
   "source": [
    "Pour chaque colonne, il :\n",
    "\n",
    "détecte les valeurs null,\n",
    "\n",
    "les convertit en 1,\n",
    "\n",
    "puis les additionne.\n",
    "\n",
    "Le résultat est une seule ligne avec le nombre de valeurs nulles par colonne."
   ]
  },
  {
   "cell_type": "code",
   "execution_count": 0,
   "metadata": {
    "application/vnd.databricks.v1+cell": {
     "cellMetadata": {
      "byteLimit": 2048000,
      "rowLimit": 10000
     },
     "inputWidgets": {},
     "nuid": "bc5e24d6-bdcc-41b8-80b6-471f02571709",
     "showTitle": false,
     "tableResultSettingsMap": {},
     "title": ""
    }
   },
   "outputs": [
    {
     "name": "stdout",
     "output_type": "stream",
     "text": [
      "+----------------+\n",
      "|total_duplicates|\n",
      "+----------------+\n",
      "|            null|\n",
      "+----------------+\n",
      "\n"
     ]
    }
   ],
   "source": [
    "# Compter le nombre de doublons sur toutes les colonnes\n",
    "df.groupBy(df.columns).count().filter(\"count > 1\").selectExpr(\"sum(count - 1) as total_duplicates\").show()"
   ]
  },
  {
   "cell_type": "markdown",
   "metadata": {
    "application/vnd.databricks.v1+cell": {
     "cellMetadata": {},
     "inputWidgets": {},
     "nuid": "6d0df684-255b-40f6-8bd4-9d1501a013e6",
     "showTitle": false,
     "tableResultSettingsMap": {},
     "title": ""
    }
   },
   "source": [
    "## Traitement de données"
   ]
  },
  {
   "cell_type": "code",
   "execution_count": 0,
   "metadata": {
    "application/vnd.databricks.v1+cell": {
     "cellMetadata": {
      "byteLimit": 2048000,
      "rowLimit": 10000
     },
     "inputWidgets": {},
     "nuid": "1cd8f7b5-4623-430e-bc8c-ba6b7e311244",
     "showTitle": false,
     "tableResultSettingsMap": {},
     "title": ""
    }
   },
   "outputs": [],
   "source": [
    "# Supprimer les lignes avec des valeurs manquantes dans les colonnes spécifiques\n",
    "df_clean = df.dropna(how='any', subset=['District', 'Location Description', 'Ward', 'Community Area','X Coordinate', 'Y Coordinate','Latitude', 'Longitude','Location'])"
   ]
  },
  {
   "cell_type": "code",
   "execution_count": 0,
   "metadata": {
    "application/vnd.databricks.v1+cell": {
     "cellMetadata": {
      "byteLimit": 2048000,
      "rowLimit": 10000
     },
     "inputWidgets": {},
     "nuid": "33f4627e-4b6b-4ccd-ac85-b05b0732ad7d",
     "showTitle": false,
     "tableResultSettingsMap": {},
     "title": ""
    }
   },
   "outputs": [
    {
     "name": "stdout",
     "output_type": "stream",
     "text": [
      "+---+-----------+----+-----+----+------------+-----------+--------------------+------+--------+----+--------+----+--------------+--------+------------+------------+----+----------+--------+---------+--------+\n",
      "| ID|Case Number|Date|Block|IUCR|Primary Type|Description|Location Description|Arrest|Domestic|Beat|District|Ward|Community Area|FBI Code|X Coordinate|Y Coordinate|Year|Updated On|Latitude|Longitude|Location|\n",
      "+---+-----------+----+-----+----+------------+-----------+--------------------+------+--------+----+--------+----+--------------+--------+------------+------------+----+----------+--------+---------+--------+\n",
      "|  0|          0|   0|    0|   0|           0|          0|                   0|     0|       0|   0|       0|   0|             0|       0|           0|           0|   0|         0|       0|        0|       0|\n",
      "+---+-----------+----+-----+----+------------+-----------+--------------------+------+--------+----+--------+----+--------------+--------+------------+------------+----+----------+--------+---------+--------+\n",
      "\n"
     ]
    }
   ],
   "source": [
    "df_clean.select([\n",
    "    sum(col(c).isNull().cast(\"int\")).alias(c)\n",
    "    for c in df_clean.columns\n",
    "]).show()\n"
   ]
  },
  {
   "cell_type": "markdown",
   "metadata": {
    "application/vnd.databricks.v1+cell": {
     "cellMetadata": {},
     "inputWidgets": {},
     "nuid": "811ebf09-61cc-4d3b-bd87-1e3d367ff346",
     "showTitle": false,
     "tableResultSettingsMap": {},
     "title": ""
    }
   },
   "source": [
    "### On peut constater qu'il n'y a plus de valeurs manquantes "
   ]
  },
  {
   "cell_type": "markdown",
   "metadata": {
    "application/vnd.databricks.v1+cell": {
     "cellMetadata": {},
     "inputWidgets": {},
     "nuid": "364bf88b-5a83-4f83-b1df-2e227722597f",
     "showTitle": false,
     "tableResultSettingsMap": {},
     "title": ""
    }
   },
   "source": [
    "## Renommer le noms des colonnes pour une compréhension plus claire pour le public francophone"
   ]
  },
  {
   "cell_type": "code",
   "execution_count": 0,
   "metadata": {
    "application/vnd.databricks.v1+cell": {
     "cellMetadata": {
      "byteLimit": 2048000,
      "rowLimit": 10000
     },
     "inputWidgets": {},
     "nuid": "09a76cb9-25e6-4e8e-830f-c3c3c5ed0948",
     "showTitle": false,
     "tableResultSettingsMap": {},
     "title": ""
    }
   },
   "outputs": [],
   "source": [
    "# Dictionnaire des anciens noms vers nouveaux noms en français\n",
    "renommage = {\n",
    "    \"ID\": \"ID\",\n",
    "    \"Case Number\": \"Numéro de dossier\",\n",
    "    \"Date\": \"Date\",\n",
    "    \"Block\": \"Rue\",\n",
    "    \"IUCR\": \"Code d’infraction (IUCR)\",\n",
    "    \"Primary Type\": \"Type principal d’infraction\",\n",
    "    \"Description\": \"Description\",\n",
    "    \"Location Description\": \"Description du lieu\",\n",
    "    \"Arrest\": \"Arrestation (Oui / Non)\",\n",
    "    \"Domestic\": \"Violence domestique (Oui / Non)\",\n",
    "    \"Beat\": \"Secteur de patrouille\",\n",
    "    \"District\": \"District de police\",\n",
    "    \"Ward\": \"Circonscription électorale\",\n",
    "    \"Community Area\": \"Zone communautaire\",\n",
    "    \"FBI Code\": \"Code FBI\",\n",
    "    \"X Coordinate\": \"Coordonnée X\",\n",
    "    \"Y Coordinate\": \"Coordonnée Y\",\n",
    "    \"Year\": \"Année\",\n",
    "    \"Updated On\": \"Date de mise à jour\",\n",
    "    \"Latitude\": \"Latitude\",\n",
    "    \"Longitude\": \"Longitude\",\n",
    "    \"Location\": \"Coordonnées GPS (lat, long)\"\n",
    "}"
   ]
  },
  {
   "cell_type": "code",
   "execution_count": 0,
   "metadata": {
    "application/vnd.databricks.v1+cell": {
     "cellMetadata": {
      "byteLimit": 2048000,
      "rowLimit": 10000
     },
     "inputWidgets": {},
     "nuid": "5828408e-4ad8-4f98-a256-aaa179131d39",
     "showTitle": false,
     "tableResultSettingsMap": {},
     "title": ""
    }
   },
   "outputs": [
    {
     "name": "stdout",
     "output_type": "stream",
     "text": [
      "root\n",
      " |-- ID: integer (nullable = true)\n",
      " |-- Numéro de dossier: string (nullable = true)\n",
      " |-- Date: string (nullable = true)\n",
      " |-- Rue: string (nullable = true)\n",
      " |-- Code d’infraction (IUCR): string (nullable = true)\n",
      " |-- Type principal d’infraction: string (nullable = true)\n",
      " |-- Description: string (nullable = true)\n",
      " |-- Description du lieu: string (nullable = true)\n",
      " |-- Arrestation (Oui / Non): boolean (nullable = true)\n",
      " |-- Violence domestique (Oui / Non): boolean (nullable = true)\n",
      " |-- Secteur de patrouille: integer (nullable = true)\n",
      " |-- District de police: integer (nullable = true)\n",
      " |-- Circonscription électorale: integer (nullable = true)\n",
      " |-- Zone communautaire: integer (nullable = true)\n",
      " |-- Code FBI: string (nullable = true)\n",
      " |-- Coordonnée X: integer (nullable = true)\n",
      " |-- Coordonnée Y: integer (nullable = true)\n",
      " |-- Année: integer (nullable = true)\n",
      " |-- Date de mise à jour: string (nullable = true)\n",
      " |-- Latitude: double (nullable = true)\n",
      " |-- Longitude: double (nullable = true)\n",
      " |-- Coordonnées GPS (lat, long): string (nullable = true)\n",
      "\n"
     ]
    }
   ],
   "source": [
    "# Renommage des colonnes\n",
    "for ancien, nouveau in renommage.items():\n",
    "    df_clean = df_clean.withColumnRenamed(ancien, nouveau)\n",
    "\n",
    "# Vérifier le résultat\n",
    "df_clean.printSchema()"
   ]
  },
  {
   "cell_type": "markdown",
   "metadata": {
    "application/vnd.databricks.v1+cell": {
     "cellMetadata": {},
     "inputWidgets": {},
     "nuid": "e1d73917-17f1-4640-828e-e5ad4dd04478",
     "showTitle": false,
     "tableResultSettingsMap": {},
     "title": ""
    }
   },
   "source": [
    "### Reconvertion des bonnes données des colonnes DATE"
   ]
  },
  {
   "cell_type": "code",
   "execution_count": 0,
   "metadata": {
    "application/vnd.databricks.v1+cell": {
     "cellMetadata": {
      "byteLimit": 2048000,
      "rowLimit": 10000
     },
     "inputWidgets": {},
     "nuid": "4ce07457-9e0c-4f4b-8d41-027cbbb47d31",
     "showTitle": false,
     "tableResultSettingsMap": {},
     "title": ""
    }
   },
   "outputs": [
    {
     "name": "stdout",
     "output_type": "stream",
     "text": [
      "+--------------------+\n",
      "|                Date|\n",
      "+--------------------+\n",
      "|08/10/2020 09:45:...|\n",
      "|09/06/2023 05:00:...|\n",
      "|09/06/2023 11:00:...|\n",
      "|05/21/2019 08:20:...|\n",
      "|07/07/2021 10:30:...|\n",
      "|06/14/2022 02:47:...|\n",
      "|09/21/2022 10:00:...|\n",
      "|02/22/2023 01:50:...|\n",
      "|05/03/2023 08:10:...|\n",
      "|12/25/2022 12:01:...|\n",
      "|06/23/2023 04:44:...|\n",
      "|02/10/2024 12:44:...|\n",
      "|02/22/2024 12:49:...|\n",
      "|03/13/2023 06:40:...|\n",
      "|06/05/2023 09:15:...|\n",
      "+--------------------+\n",
      "only showing top 15 rows\n",
      "\n"
     ]
    }
   ],
   "source": [
    "df_clean.select(\"Date\").show(15)"
   ]
  },
  {
   "cell_type": "code",
   "execution_count": 0,
   "metadata": {
    "application/vnd.databricks.v1+cell": {
     "cellMetadata": {
      "byteLimit": 2048000,
      "rowLimit": 10000
     },
     "inputWidgets": {},
     "nuid": "418d924f-4b20-4bd2-b6f8-488f28b470d0",
     "showTitle": false,
     "tableResultSettingsMap": {},
     "title": ""
    }
   },
   "outputs": [],
   "source": [
    "from pyspark.sql.functions import to_timestamp\n",
    "\n",
    "# Repartir de la colonne Date en string \n",
    "df_clean = df_clean.withColumn(\"Date\", to_timestamp(col(\"Date\"), \"MM/dd/yyyy hh:mm:ss a\"))\n",
    "\n"
   ]
  },
  {
   "cell_type": "code",
   "execution_count": 0,
   "metadata": {
    "application/vnd.databricks.v1+cell": {
     "cellMetadata": {
      "byteLimit": 2048000,
      "rowLimit": 10000
     },
     "inputWidgets": {},
     "nuid": "05781a3f-0963-477c-9331-5e4753e2efd9",
     "showTitle": false,
     "tableResultSettingsMap": {},
     "title": ""
    }
   },
   "outputs": [],
   "source": [
    "# Repartir de la colonne Date en string (par exemple depuis df_raw)\n",
    "df_clean = df_clean.withColumn(\"Date de mise à jour\", to_timestamp(col(\"Date de mise à jour\"), \"MM/dd/yyyy hh:mm:ss a\"))"
   ]
  },
  {
   "cell_type": "code",
   "execution_count": 0,
   "metadata": {
    "application/vnd.databricks.v1+cell": {
     "cellMetadata": {
      "byteLimit": 2048000,
      "rowLimit": 10000
     },
     "inputWidgets": {},
     "nuid": "eb3265b3-a1c7-4dc3-ba41-95f313756454",
     "showTitle": false,
     "tableResultSettingsMap": {},
     "title": ""
    }
   },
   "outputs": [
    {
     "name": "stdout",
     "output_type": "stream",
     "text": [
      "+-------------------+-------------------+\n",
      "|               Date|Date de mise à jour|\n",
      "+-------------------+-------------------+\n",
      "|2020-08-10 09:45:00|2025-05-17 15:40:52|\n",
      "|2023-09-06 17:00:00|2023-11-04 15:40:18|\n",
      "|2023-09-06 11:00:00|2023-11-04 15:40:18|\n",
      "|2019-05-21 08:20:00|2024-01-19 15:40:50|\n",
      "|2021-07-07 10:30:00|2024-01-19 15:40:50|\n",
      "|2022-06-14 14:47:00|2024-01-19 15:40:50|\n",
      "|2022-09-21 22:00:00|2024-01-19 15:40:50|\n",
      "|2023-02-22 13:50:00|2024-01-19 15:40:50|\n",
      "|2023-05-03 08:10:00|2024-01-19 15:40:50|\n",
      "|2022-12-25 00:01:00|2024-01-19 15:40:50|\n",
      "|2023-06-23 04:44:00|2025-05-17 15:40:52|\n",
      "|2024-02-10 00:44:00|2025-05-17 15:40:52|\n",
      "|2024-02-22 00:49:00|2025-05-17 15:40:52|\n",
      "|2023-03-13 18:40:00|2024-01-19 15:40:50|\n",
      "|2023-06-05 21:15:00|2024-01-19 15:40:50|\n",
      "+-------------------+-------------------+\n",
      "only showing top 15 rows\n",
      "\n"
     ]
    }
   ],
   "source": [
    "df_clean.select(\"Date\", \"Date de mise à jour\").show(15)"
   ]
  },
  {
   "cell_type": "markdown",
   "metadata": {
    "application/vnd.databricks.v1+cell": {
     "cellMetadata": {},
     "inputWidgets": {},
     "nuid": "ae898f86-b009-4e16-bcb5-0504b39c71cc",
     "showTitle": false,
     "tableResultSettingsMap": {},
     "title": ""
    }
   },
   "source": [
    "## Visualation pour la distribution et la compréhension globale "
   ]
  },
  {
   "cell_type": "code",
   "execution_count": 0,
   "metadata": {
    "application/vnd.databricks.v1+cell": {
     "cellMetadata": {
      "byteLimit": 2048000,
      "rowLimit": 10000
     },
     "inputWidgets": {},
     "nuid": "4c838633-ab86-4988-b819-335e2f3a0929",
     "showTitle": false,
     "tableResultSettingsMap": {},
     "title": ""
    }
   },
   "outputs": [
    {
     "name": "stdout",
     "output_type": "stream",
     "text": [
      "+---------------------------+-------+\n",
      "|Type principal d’infraction|  count|\n",
      "+---------------------------+-------+\n",
      "|                      THEFT|1628315|\n",
      "|                    BATTERY|1398136|\n",
      "|            CRIMINAL DAMAGE| 874259|\n",
      "|                  NARCOTICS| 682758|\n",
      "|                    ASSAULT| 515960|\n",
      "|              OTHER OFFENSE| 476630|\n",
      "|                   BURGLARY| 407990|\n",
      "|        MOTOR VEHICLE THEFT| 389507|\n",
      "|         DECEPTIVE PRACTICE| 335672|\n",
      "|                    ROBBERY| 288375|\n",
      "+---------------------------+-------+\n",
      "only showing top 10 rows\n",
      "\n"
     ]
    },
    {
     "data": {
      "image/png": "[encoded data removed]"
     },
     "metadata": {
      "application/vnd.databricks.v1+output": {
       "addedWidgets": {},
       "arguments": {},
       "data": "data:image/png;base64,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\n",
       "datasetInfos": [],
       "metadata": {},
       "removedWidgets": [],
       "type": "image"
      }
     },
     "output_type": "display_data"
    }
   ],
   "source": [
    "# Compter le nombre d'occurrences de chaque type d'infraction\n",
    "type_infraction = df_clean.groupBy(\"Type principal d’infraction\").count().orderBy(\"count\", ascending=False)\n",
    "\n",
    "# Afficher les 10 types les plus fréquents\n",
    "type_infraction.show(10)\n",
    "\n",
    "# Pour visualiser avec matplotlib/seaborn, convertir en Pandas\n",
    "type_infraction_pd = type_infraction.toPandas()\n",
    "\n",
    "# Afficher un graphique des 10 types les plus fréquents\n",
    "\n",
    "plt.figure(figsize=(12,6))\n",
    "sns.barplot(\n",
    "    data=type_infraction_pd.head(10),\n",
    "    x=\"count\",\n",
    "    y=\"Type principal d’infraction\",\n",
    "    palette=\"viridis\"\n",
    ")\n",
    "plt.xlabel(\"Nombre d'infractions\")\n",
    "plt.ylabel(\"Type principal d’infraction\")\n",
    "plt.title(\"Top 10 des types d'infraction\")\n",
    "plt.tight_layout()\n",
    "plt.show()"
   ]
  },
  {
   "cell_type": "code",
   "execution_count": 0,
   "metadata": {
    "application/vnd.databricks.v1+cell": {
     "cellMetadata": {
      "byteLimit": 2048000,
      "rowLimit": 10000
     },
     "inputWidgets": {},
     "nuid": "f9562c8f-72b7-47d4-8357-eacfd13f6a9c",
     "showTitle": false,
     "tableResultSettingsMap": {},
     "title": ""
    }
   },
   "outputs": [
    {
     "data": {
      "text/html": [
       "<style scoped>\n",
       "  .table-result-container {\n",
       "    max-height: 300px;\n",
       "    overflow: auto;\n",
       "  }\n",
       "  table, th, td {\n",
       "    border: 1px solid black;\n",
       "    border-collapse: collapse;\n",
       "  }\n",
       "  th, td {\n",
       "    padding: 5px;\n",
       "  }\n",
       "  th {\n",
       "    text-align: left;\n",
       "  }\n",
       "</style><div class='table-result-container'><table class='table-result'><thead style='background-color: white'><tr><th>Type principal d’infraction</th><th>count</th></tr></thead><tbody><tr><td>THEFT</td><td>1628315</td></tr><tr><td>BATTERY</td><td>1398136</td></tr><tr><td>CRIMINAL DAMAGE</td><td>874259</td></tr><tr><td>NARCOTICS</td><td>682758</td></tr><tr><td>ASSAULT</td><td>515960</td></tr><tr><td>OTHER OFFENSE</td><td>476630</td></tr><tr><td>BURGLARY</td><td>407990</td></tr><tr><td>MOTOR VEHICLE THEFT</td><td>389507</td></tr><tr><td>DECEPTIVE PRACTICE</td><td>335672</td></tr><tr><td>ROBBERY</td><td>288375</td></tr></tbody></table></div>"
      ]
     },
     "metadata": {
      "application/vnd.databricks.v1+output": {
       "addedWidgets": {},
       "aggData": [],
       "aggError": "",
       "aggOverflow": false,
       "aggSchema": [],
       "aggSeriesLimitReached": false,
       "aggType": "",
       "arguments": {},
       "columnCustomDisplayInfos": {},
       "data": [
        [
         "THEFT",
         1628315
        ],
        [
         "BATTERY",
         1398136
        ],
        [
         "CRIMINAL DAMAGE",
         874259
        ],
        [
         "NARCOTICS",
         682758
        ],
        [
         "ASSAULT",
         515960
        ],
        [
         "OTHER OFFENSE",
         476630
        ],
        [
         "BURGLARY",
         407990
        ],
        [
         "MOTOR VEHICLE THEFT",
         389507
        ],
        [
         "DECEPTIVE PRACTICE",
         335672
        ],
        [
         "ROBBERY",
         288375
        ]
       ],
       "datasetInfos": [],
       "dbfsResultPath": null,
       "isJsonSchema": true,
       "metadata": {},
       "overflow": false,
       "plotOptions": {
        "customPlotOptions": {},
        "displayType": "table",
        "pivotAggregation": null,
        "pivotColumns": null,
        "xColumns": null,
        "yColumns": null
       },
       "removedWidgets": [],
       "schema": [
        {
         "metadata": "{}",
         "name": "Type principal d’infraction",
         "type": "\"string\""
        },
        {
         "metadata": "{}",
         "name": "count",
         "type": "\"long\""
        }
       ],
       "type": "table"
      }
     },
     "output_type": "display_data"
    },
    {
     "name": "stderr",
     "output_type": "stream",
     "text": [
      "<command-8852690609030150>:15: SettingWithCopyWarning: \n",
      "A value is trying to be set on a copy of a slice from a DataFrame.\n",
      "Try using .loc[row_indexer,col_indexer] = value instead\n",
      "\n",
      "See the caveats in the documentation: https://pandas.pydata.org/pandas-docs/stable/user_guide/indexing.html#returning-a-view-versus-a-copy\n",
      "  top_10_types['percentage'] = (top_10_types['count'] / total_infractions) * 100\n"
     ]
    },
    {
     "data": {
      "text/html": [
       "<style scoped>\n",
       "  .table-result-container {\n",
       "    max-height: 300px;\n",
       "    overflow: auto;\n",
       "  }\n",
       "  table, th, td {\n",
       "    border: 1px solid black;\n",
       "    border-collapse: collapse;\n",
       "  }\n",
       "  th, td {\n",
       "    padding: 5px;\n",
       "  }\n",
       "  th {\n",
       "    text-align: left;\n",
       "  }\n",
       "</style><div class='table-result-container'><table class='table-result'><thead style='background-color: white'><tr><th>Type principal d’infraction</th><th>count</th><th>percentage</th></tr></thead><tbody><tr><td>THEFT</td><td>1628315</td><td>21.30790296991456</td></tr><tr><td>BATTERY</td><td>1398136</td><td>18.295812681664458</td></tr><tr><td>CRIMINAL DAMAGE</td><td>874259</td><td>11.440431330900061</td></tr><tr><td>NARCOTICS</td><td>682758</td><td>8.934475955778167</td></tr><tr><td>ASSAULT</td><td>515960</td><td>6.75178059304073</td></tr><tr><td>OTHER OFFENSE</td><td>476630</td><td>6.237113698854568</td></tr><tr><td>BURGLARY</td><td>407990</td><td>5.338900232875974</td></tr><tr><td>MOTOR VEHICLE THEFT</td><td>389507</td><td>5.097034272915566</td></tr><tr><td>DECEPTIVE PRACTICE</td><td>335672</td><td>4.392556971910939</td></tr><tr><td>ROBBERY</td><td>288375</td><td>3.7736350269751933</td></tr></tbody></table></div>"
      ]
     },
     "metadata": {
      "application/vnd.databricks.v1+output": {
       "addedWidgets": {},
       "aggData": [],
       "aggError": "",
       "aggOverflow": false,
       "aggSchema": [],
       "aggSeriesLimitReached": false,
       "aggType": "",
       "arguments": {},
       "columnCustomDisplayInfos": {},
       "data": [
        [
         "THEFT",
         1628315,
         21.30790296991456
        ],
        [
         "BATTERY",
         1398136,
         18.295812681664458
        ],
        [
         "CRIMINAL DAMAGE",
         874259,
         11.440431330900061
        ],
        [
         "NARCOTICS",
         682758,
         8.934475955778167
        ],
        [
         "ASSAULT",
         515960,
         6.75178059304073
        ],
        [
         "OTHER OFFENSE",
         476630,
         6.237113698854568
        ],
        [
         "BURGLARY",
         407990,
         5.338900232875974
        ],
        [
         "MOTOR VEHICLE THEFT",
         389507,
         5.097034272915566
        ],
        [
         "DECEPTIVE PRACTICE",
         335672,
         4.392556971910939
        ],
        [
         "ROBBERY",
         288375,
         3.7736350269751933
        ]
       ],
       "datasetInfos": [],
       "dbfsResultPath": null,
       "isJsonSchema": true,
       "metadata": {},
       "overflow": false,
       "plotOptions": {
        "customPlotOptions": {},
        "displayType": "table",
        "pivotAggregation": null,
        "pivotColumns": null,
        "xColumns": null,
        "yColumns": null
       },
       "removedWidgets": [],
       "schema": [
        {
         "metadata": "{}",
         "name": "Type principal d’infraction",
         "type": "\"string\""
        },
        {
         "metadata": "{}",
         "name": "count",
         "type": "\"long\""
        },
        {
         "metadata": "{}",
         "name": "percentage",
         "type": "\"double\""
        }
       ],
       "type": "table"
      }
     },
     "output_type": "display_data"
    }
   ],
   "source": [
    "# Analyse du graphique \"Top 10 des types d'infraction\"\n",
    "# Le graphique montre les 10 types d'infraction les plus fréquents dans le jeu de données.\n",
    "# Chaque barre représente le nombre d'occurrences d'un type d'infraction spécifique.\n",
    "# Les types d'infraction sont classés par ordre décroissant de fréquence.\n",
    "\n",
    "# Extraire les données du graphique pour analyse\n",
    "top_10_types = type_infraction_pd.head(10)\n",
    "\n",
    "# Afficher les données des 10 types d'infraction les plus fréquents\n",
    "display(top_10_types)\n",
    "\n",
    "# Analyser les données\n",
    "# Calculer le pourcentage de chaque type d'infraction par rapport au total des infractions\n",
    "total_infractions = type_infraction_pd['count'].sum()\n",
    "top_10_types['percentage'] = (top_10_types['count'] / total_infractions) * 100\n",
    "\n",
    "# Afficher les pourcentages\n",
    "display(top_10_types[['Type principal d’infraction', 'count', 'percentage']])"
   ]
  },
  {
   "cell_type": "code",
   "execution_count": 0,
   "metadata": {
    "application/vnd.databricks.v1+cell": {
     "cellMetadata": {
      "byteLimit": 2048000,
      "rowLimit": 10000
     },
     "inputWidgets": {},
     "nuid": "c8156933-8f21-44ca-95bd-9d94fd095f24",
     "showTitle": false,
     "tableResultSettingsMap": {},
     "title": ""
    }
   },
   "outputs": [
    {
     "name": "stdout",
     "output_type": "stream",
     "text": [
      "+-----+------+\n",
      "|Année| count|\n",
      "+-----+------+\n",
      "| 2001|  3900|\n",
      "| 2002|345046|\n",
      "| 2003|471995|\n",
      "| 2004|467138|\n",
      "| 2005|449877|\n",
      "| 2006|445514|\n",
      "| 2007|435547|\n",
      "| 2008|419656|\n",
      "| 2009|385765|\n",
      "| 2010|369778|\n",
      "| 2011|350891|\n",
      "| 2012|335099|\n",
      "| 2013|306340|\n",
      "| 2014|273616|\n",
      "| 2015|257783|\n",
      "| 2016|266478|\n",
      "| 2017|264152|\n",
      "| 2018|262894|\n",
      "| 2019|258163|\n",
      "| 2020|206924|\n",
      "+-----+------+\n",
      "only showing top 20 rows\n",
      "\n"
     ]
    },
    {
     "data": {
      "image/png": "[encoded data removed]"
     },
     "metadata": {
      "application/vnd.databricks.v1+output": {
       "addedWidgets": {},
       "arguments": {},
       "data": "data:image/png;base64,iVBORw0KGgoAAAANSUhEUgAAAscAAAFgCAYAAABXB9TlAAAAOXRFWHRTb2Z0d2FyZQBNYXRwbG90bGliIHZlcnNpb24zLjUuMSwgaHR0cHM6Ly9tYXRwbG90bGliLm9yZy/YYfK9AAAACXBIWXMAAAsTAAALEwEAmpwYAAApg0lEQVR4nO3deZhlVXnv8e+PBhwQZGoJAtJGcUCDgIg4RQRFxAGSOEAQUFH0qolEvYpxjpqLMU5ch8gVRHBARIlIwBZR4hCRUWaHFkFAkJYZokbwvX/sVXAo6lSd7t6nqrv4fp5nP3XO2nuvd61zzq56a521905VIUmSJAlWm+sGSJIkSSsLk2NJkiSpMTmWJEmSGpNjSZIkqTE5liRJkhqTY0mSJKkxOZa00kjyb0ne3lNdD0pyS5IF7fmpSV7eR92tvpOS7NdXfdPEeUmS7487zgxtuDDJjnPZhvkgyQuSnJzk3nPdFknDrT7XDZB0z5DkUmAj4DbgduAi4Ejg0Kr6E0BVvWoZ6np5VX1r2DZV9SvgfivW6jvivQt4aFW9eKD+Z/VR96qgqh41121Y1SXZBng5sEdV/X6u2yNpOEeOJc2m51bV2sDmwMHAm4HD+g6SxH/8ezAfX8e56lNVnVNVz6yqW+civqTRmRxLmnVVdWNVHQ+8CNgvyaMBkhyR5L3t8YZJTkhyQ5LrknwvyWpJjgIeBHy9TZt4U5JFSSrJ/kl+BXx7oGwwGXpIktOT3JTka0nWb7F2THLFYBuTXJrk6Ul2Bf4ReFGLd25bf8c0jdautyW5LMk1SY5Mcv+2bqId+yX5VZLfJnnrsNcmyQZJjm9tPB14yKT1j2hfzV+X5KdJXjiwbrckFyW5OcmVSd44TZxXJLm4bXtRkm0H+v3mJOcBtyZZfeK1aOvfleTLST7X9j0/ycOSvKX1/fIkuwzEuX+Sw5Jc1dr03oGpLg9N8p9Jbmyvy5eGtHXiNTwgya9bXW8cWL99kh+2z8pVST6WZM2B9ZXkNUl+Dvx8SIwvJ7m6teW7SR41sO6IJB9P8h+tzz9K8pBJ9b8qyc9bGz6eJAPrX9Ze6+uTLE6y+Sjvp6S5YXIsac5U1enAFcBTplj9hrZuId10jH/sdql9gF/RjULfr6r+ZWCfpwKPBJ45JOS+wMuAjemmdxwyQhu/Afwz8KUW7zFTbPaStjwN+HO66Rwfm7TNk4GHAzsD70jyyCEhPw78vrXxZW0BIMlawMnAF4AHAHsCn0iyZdvkMOCVbXT+0cC3pwqQ5AXAu+hej3WA5wHXDmyyF/BsYN2qum2KKp4LHAWsB5wDLKb7e7IJ8E/Apwa2PYLutX4osA2wC930AoD3AN9s9WwK/N8hr8mEpwFbtDrePJGw003T+QdgQ+AJdK/xqyftuwfweGBLpnZSq/sBwNnA5yet3xN4d2vrEuB9k9Y/B3gcsBXwQtpnMMnudJ/dv6b7LH8P+GJbN9P7KWkOmBxLmmu/BtafovyPdAni5lX1x6r6XlXVDHW9q6purarfDVl/VFVd0L7afjvwwolRzBW0N/Chqrqkqm4B3gLsmbuOWr+7qn5XVecC5wJ3S7JbW/4GeEfrxwXAZwc2eQ5waVV9pqpuq6pzgK8AL2jr/whsmWSdqrq+qs4e0t6XA/9SVWdUZ0lVXTaw/pCqunya1/F7VbW4Jc5fpkv6Dq6qPwJHA4uSrJtkI2A34MDWn2uAD9MlgRPt3Rx4YFX9vqpmOvHw3a2e84HP0CXxVNVZVXVae00upUvOnzpp3/9TVdcN61NVHV5VN1fVH+j+cXjMxOh/c1xVnd76/Hlg60lVHFxVN7S57t8ZWP+qFvvitu8/A1u30eOZ3k9Jc8DkWNJc2wS4boryD9CN0H0zySVJDhqhrsuXYf1lwBp0o40r6oGtvsG6V6cb8Z5w9cDj/2bqkwUXtv0mt3PC5sDj21f3NyS5gS4x/7O2/m/oktHL2nSFJwxp72bAL6bpz0yv428GHv8O+G1V3T7wHLr+bU73Gl810N5P0Y2SArwJCHB6uitivIzpTX5dHgjQpnWc0KZF3ESXgE5+X4f2KcmCJAcn+UXb/9K2arCOmd6/Yes3Bz460P/r6Pq8CTO/n5LmwLw72ULSqiPJ4+iShLuNGFbVzXRTK96Qbk7yt5OcUVWnAMNGkGcaWd5s4PGD6EYufwvcCtx3oF0L6BLVUev9NV2iM1j3bXRJ5KYz7DtoadtvM+AnA3VNuBz4z6p6xlQ7V9UZwO5J1gBeCxzDXfs8WM9Dpii/o6plaPN0Lgf+AGw41fSMqroaeAVAkicD30ry3apaMqS+ya/Lr9vjT9JN79irqm5OciDw/Mnhpmnn3wK7A0+nS4zvD1xPl8SuqMuB91XV5GkatNHjoe+npLnhyLGkWZdknSTPofsK/nPta/LJ2zynnbAV4Ea6eaV/aqt/Qze3d1m9OMmWSe5LNzf22Dbi+TPg3kme3RLLtwH3GtjvN3RTBYb9zvwi8A9JHpzkftw5R3mq+bpDtbZ8FXhXkvu2uaeD11I+AXhYkn2SrNGWxyV5ZJI1k+yd5P5tesNN3Pl6TfZp4I1JHpvOQwdPEutLVV1FN6f4g+09Xy3JQ5I8Fe647u/EPw/X0yWww9oM8Pb2ujwKeCkwcQLf2nT9vSXJI4D/tYxNXZsuib+W7p+kf17G/afzb8BbJk7wS3eC4sS0iaHvZ4/xJS0jk2NJs+nrSW6mG017K/AhuiRnKlsA3wJuAX4IfKKqvtPW/R/gbe2r6KFXZJjCUXQniF0N3Bv4e+iunkF3AtengSvpRpIHr17x5fbz2iRTzeM9vNX9XeCXdCfU/d0ytGvQa+m+kr+6tfUzEyvaaPoudHN2f922eT93JvL7AJe2qQGvovuK/m6q6st0J5R9AbgZ+Hemnvfdh32BNemua309cCzdXHLoTmD7UZJbgOOB11XVJdPU9Z90U21OAf61qr7Zyt9IN/p7M/D/uDNpHtWRdNM0rmztPG0Z9x+qqo6je4+Obu/LBcCz2rqZ3k9JcyAzn98iSdLcSbKI7p+ONZZ1NF6SlpUjx5IkSVJjcixJkiQ1TquQJEmSGkeOJUmSpMbrHDcbbrhhLVq0aK6bIUmSpDE766yzfltVC6daZ3LcLFq0iDPPPHOumyFJkqQxS3LZsHVOq5AkSZIak2NJkiSpMTmWJEmSGpNjSZIkqTE5liRJkhqTY0mSJKkxOZYkSZIak2NJkiSpMTmWJEmSGpNjSZIkqTE5liRJkhqTY0mSJKlZfa4boPF55GZb9V7nxZef13udkiRJKwtHjiVJkqTG5FiSJElqnFahFbbtw57Sa31n/+x7vdYnSZI0KkeOJUmSpMbkWJIkSWpMjiVJkqTG5FiSJElqTI4lSZKkxuRYkiRJakyOJUmSpMbkWJIkSWpMjiVJkqTGO+RplfDErZ7be53/dd7Xe69TkiSt2hw5liRJkhqTY0mSJKlxWoU04Gk77NNrfd857ahe65MkSePlyLEkSZLUmBxLkiRJjcmxJEmS1JgcS5IkSY3JsSRJktR4tQppDuyy42t7re+bp36s1/okSbqncuRYkiRJakyOJUmSpMbkWJIkSWpMjiVJkqTG5FiSJElqTI4lSZKkxuRYkiRJakyOJUmSpMabgEjz1G7PflvvdZ74H+/tvU5JklYmjhxLkiRJjcmxJEmS1JgcS5IkSY3JsSRJktSYHEuSJEmNybEkSZLUmBxLkiRJzdiT4yQLkpyT5IT2/MFJfpRkSZIvJVmzld+rPV/S1i8aqOMtrfynSZ45UL5rK1uS5KCB8iljSJIkSdOZjZHj1wEXDzx/P/DhqnoocD2wfyvfH7i+lX+4bUeSLYE9gUcBuwKfaAn3AuDjwLOALYG92rbTxZAkSZKGGmtynGRT4NnAp9vzADsBx7ZNPgvs0R7v3p7T1u/ctt8dOLqq/lBVvwSWANu3ZUlVXVJV/wMcDew+QwxJkiRpqHGPHH8EeBPwp/Z8A+CGqrqtPb8C2KQ93gS4HKCtv7Ftf0f5pH2GlU8XQ5IkSRpqbMlxkucA11TVWeOKsaKSHJDkzCRnLl26dK6bI0mSpDk2zpHjJwHPS3Ip3ZSHnYCPAusmWb1tsylwZXt8JbAZQFt/f+DawfJJ+wwrv3aaGHdRVYdW1XZVtd3ChQuXv6eSJEmaF8aWHFfVW6pq06paRHdC3beram/gO8Dz22b7AV9rj49vz2nrv11V1cr3bFezeDCwBXA6cAawRbsyxZotxvFtn2ExJEmSpKHm4jrHbwZen2QJ3fzgw1r5YcAGrfz1wEEAVXUhcAxwEfAN4DVVdXubU/xaYDHd1TCOadtOF0OSJEkaavWZN1lxVXUqcGp7fAndlSYmb/N74AVD9n8f8L4pyk8ETpyifMoYkiRJ0nS8Q54kSZLUmBxLkiRJjcmxJEmS1MzKnGNJ89duzz+41/pOPPagXuuTJGlZOHIsSZIkNSbHkiRJUmNyLEmSJDUmx5IkSVJjcixJkiQ1JseSJElSY3IsSZIkNSbHkiRJUuNNQCSt9Hbd98O91/mNI/+h9zolSas+R44lSZKkxuRYkiRJakyOJUmSpMbkWJIkSWpMjiVJkqTG5FiSJElqTI4lSZKkxuRYkiRJakyOJUmSpMbkWJIkSWq8fbQkNc945SG91nfyp/6+1/okSePnyLEkSZLUmBxLkiRJjcmxJEmS1DjneI5svnBRr/VdtvTSXuuTJEm6J3LkWJIkSWpMjiVJkqTG5FiSJElqTI4lSZKkxuRYkiRJarxahSTNoqe/7mO91/mtj7629zol6Z7KkWNJkiSpMTmWJEmSGpNjSZIkqTE5liRJkhqTY0mSJKkxOZYkSZKaZUqOk6yWZJ1xNUaSJEmaSzMmx0m+kGSdJGsBFwAXJfnf42+aJEmSNLtGGTnesqpuAvYATgIeDOwzzkZJkiRJc2GU5HiNJGvQJcfHV9UfgRprqyRJkqQ5MEpy/CngUmAt4LtJNgduGmejJEmSpLmw+kwbVNUhwCEDRZcledr4miRJkiTNjVFOyNsoyWFJTmrPtwT2G3vLJEmSpFk2yrSKI4DFwAPb858BB46pPZIkSdKcGSU53rCqjgH+BFBVtwG3j7VVkiRJ0hwYJTm+NckGtCtUJNkBuHGsrZIkSZLmwIwn5AGvB44HHpLkB8BC4Pkz7ZTk3sB3gXu1OMdW1TuTPBg4GtgAOAvYp6r+J8m9gCOBxwLXAi+qqktbXW8B9qcbsf77qlrcyncFPgosAD5dVQe38iljjNBXSZoXnn7QJ3qt71sHv7rX+iRpZTXjyHFVnQ08FXgi8ErgUVV13gh1/wHYqaoeA2wN7NpGnd8PfLiqHgpcT5f00n5e38o/3LabOAFwT+BRwK7AJ5IsSLIA+DjwLGBLYK+2LdPEkCRJkoYa5WoVC4DdgJ2BXYC/S/L6mfarzi3t6RptKWAn4NhW/lm6m4sA7N6e09bvnCSt/Oiq+kNV/RJYAmzfliVVdUkbFT4a2L3tMyyGJEmSNNQoc46/DryEborC2gPLjNoI74+Ba4CTgV8AN7ST+gCuADZpjzcBLoc7Tvq7scW8o3zSPsPKN5gmxuT2HZDkzCRnLl26dJQuSZIkaR4bZc7xplW11fJUXlW3A1snWRc4DnjE8tQzLlV1KHAowHbbbectsSVJku7hRhk5PinJLisSpKpuAL4DPAFYN8lEUr4pcGV7fCWwGUBbf3+6E/PuKJ+0z7Dya6eJIUmSJA01SnJ8GnBckt8luSnJzUlummmnJAvbiDFJ7gM8A7iYLkmeuNrFfsDX2uPjufPOe88Hvl1V1cr3THKvdhWKLYDTgTOALZI8OMmadCftHd/2GRZDkiRJGmqUaRUfohvxPb8lnqPaGPhsO6FvNeCYqjohyUXA0UneC5wDHNa2Pww4KskS4Dq6ZJequjDJMcBFwG3Aa9p0DZK8lu7ufQuAw6vqwlbXm4fEkCRJkoYaJTm+HLhgGRNj2uXetpmi/BK6K01MLv898IIhdb0PeN8U5ScCJ44aQ5IkSZrOKMnxJcCpSU6iu3YxAFX1obG1SpIkSZoDoyTHv2zLmm2RJEmS5qUZk+OqevdsNESSJEmaa0OT4yQfqaoDk3yd7s52d1FVzxtryyRJkqRZNt3I8VHt57/ORkMkSZKkuTY0Oa6qs9pl2A6oqr1nsU2SJEnSnJj2JiDtesKbt5tsSJIkSfPaqJdy+0GS44FbJwq9lJskSZLmm1GS41+0ZTVg7fE2R5IkSZo7XspNkiRJamZMjpOcDLygqm5oz9cDjq6qZ465bZKkldjO7/q33us85V2v6r1OSVoW056Q1yycSIwBqup64AFja5EkSZI0R0ZJjm9P8qCJJ0k2Z4qbgkiSJEmrulFOyHsr8P0k/wkEeApwwFhbJUmSJM2BUU7I+0aSbYEdWtGBVfXb8TZLkqTZ8/SPfrr3Or/1upf3Xqek8Rtl5JiWDJ8w5rZIkjSvPfPQw3utb/EBL+u1PkkjJseSJGnV8JzPHdF7nSe8+CW91ymtrEY5IU+SJEm6Rxhp5DjJk4EtquozSRYC96uqX463aZIkSVoWX/zJyb3Wt9cjntFrfauCUW4C8k5gO+DhwGeANYDPAU8ab9MkSYKd339or/Wd8mYvuNSHFxx3VK/1ffmv9um1Pml5jTJy/FfANsDZAFX16yRrj7VVkiRJWml9+7If9VrfTps/vtf6VsQoc47/p6qKduOPJGuNt0mSJEnS3BglOT4myaeAdZO8AvgW8P/G2yxJkiRp9o1yE5B/TfIM4Ca6ecfvqKp+Z3tLkiRJK4FRbwJyMmBCLEmSpHltaHKc5GbaPOOpVNU6Y2mRJEmSNEeGJsdVtTZAkvcAVwFHAQH2BjaeldZJkiRJs2iUE/KeV1WfqKqbq+qmqvoksPu4GyZJkiTNtlGS41uT7J1kQZLVkuwN3DruhkmSJEmzbZTk+G+BFwK/acsLWpkkSZI0r4xyKbdLcRqFJEmS7gFGGTmWJEmS7hFMjiVJkqRmpJuASJIkacV86Ox/77W+12+7R6/1qTPjyHGSjZIcluSk9nzLJPuPv2mSJEnS7BplWsURwGLgge35z4ADx9QeSZIkac6MkhxvWFXHAH8CqKrbgNvH2ipJkiRpDox6E5ANgAJIsgNw41hbJUmSJM2BUU7Iez1wPPCQJD8AFgLPH2urJEmSpDkwbXKcZAHw1LY8HAjw06r64yy0TZIkSZpV006rqKrbgb2q6raqurCqLjAxliRJ0nw1yrSKHyT5GPAl4NaJwqo6e2ytkiRJkubAKMnx1u3nPw2UFbBT762RJEmS5tCMyXFVPW02GiJJkiTNtVHukLdBkkOSnJ3krCQfbZd2kyRJkuaVUa5zfDSwFPgbuku4LaWbfyxJkiTNK6PMOd64qt4z8Py9SV40rgZJkiRJc2WUkeNvJtkzyWpteSGweNwNkyRJkmbb0JHjJDfTXZUiwIHA59qq1YBbgDeOu3GSJEnSbBqaHFfV2rPZEEmSpEEvWfyF3us84pl/23udml9GmVZBkq2SPC/JX08sI+yzWZLvJLkoyYVJXtfK109ycpKft5/rtfK0q2IsSXJekm0H6tqvbf/zJPsNlD82yfltn0OSZLoYkiRJ0nRGuZTb4cDhdFereG5bnjNC3bcBb6iqLYEdgNck2RI4CDilqrYATmnPAZ4FbNGWA4BPtvjrA+8EHg9sD7xzINn9JPCKgf12beXDYkiSJElDjXK1ih1agrtMquoq4Kr2+OYkFwObALsDO7bNPgucCry5lR9ZVQWclmTdJBu3bU+uqusAkpwM7JrkVGCdqjqtlR8J7AGcNE0MSZKku3jD9/u9Qu0Hn+xFvVZlo0yr+GEb8V1uSRYB2wA/AjZqiTPA1cBG7fEmwOUDu13RyqYrv2KKcqaJMbldByQ5M8mZS5cuXY6eSZIkaT4ZZeT4SLoE+WrgD3RXr6iq2mqUAEnuB3wFOLCqbmrTgqFVkqSWvdmjmy5GVR0KHAqw3XbbjbUdkiRJWvmNkhwfBuwDnA/8aVkqT7IGXWL8+ar6aiv+TZKNq+qqNm3imlZ+JbDZwO6btrIruXOKxET5qa180ym2ny6GJEmSNNQo0yqWVtXxVfXLqrpsYplpp3bliMOAi6vqQwOrjgcmrjixH/C1gfJ921UrdgBubFMjFgO7JFmvnYi3C7C4rbspyQ4t1r6T6poqhiRJkjTUKCPH5yT5AvB1umkVAAyMBA/zJNqIc5Ift7J/BA4GjkmyP3AZ8MK27kRgN2AJ8N/AS1uc65K8BzijbfdPEyfnAa8GjgDuQ3ci3kmtfFgMSZIkaahRkuP70CXFuwyUFTBtclxV36ebnzyVnafYvoDXDKlr4nJyk8vPBB49Rfm1U8WQJEmSpjNjclxVL52NhkiSJElzbZSbgGya5Lgk17TlK0k2nWk/SZIkaVUzygl5n6E7we2Bbfl6K5MkSZLmlVGS44VV9Zmquq0tRwALx9wuSZIkadaNkhxfm+TFSRa05cXAteNumCRJkjTbRkmOX0Z3KbSrgauA59MusyZJkiTNJ6NcreIy4Hmz0BZJkiRpTg1NjpO8Y5r9qqreM4b2SJIkSXNmupHjW6coWwvYH9gAMDmWJEnSvDI0Oa6qD048TrI28Dq6ucZHAx8ctp8kSZK0qpp2znGS9YHXA3sDnwW2rarrZ6NhkiRJ0mybbs7xB4C/Bg4F/qKqbpm1VkmSJElzYLpLub2B7o54bwN+neSmttyc5KbZaZ4kSZI0e6abczzKNZAlSZKkecMEWJIkSWpMjiVJkqTG5FiSJElqTI4lSZKkxuRYkiRJakyOJUmSpMbkWJIkSWpMjiVJkqTG5FiSJElqTI4lSZKkxuRYkiRJakyOJUmSpMbkWJIkSWpMjiVJkqTG5FiSJElqTI4lSZKkxuRYkiRJakyOJUmSpMbkWJIkSWpMjiVJkqTG5FiSJElqTI4lSZKkxuRYkiRJakyOJUmSpMbkWJIkSWpMjiVJkqTG5FiSJElqTI4lSZKkxuRYkiRJakyOJUmSpMbkWJIkSWpWn+sGSJIkSZOde81Pe6/zMQ94+IzbOHIsSZIkNSbHkiRJUmNyLEmSJDUmx5IkSVIztuQ4yeFJrklywUDZ+klOTvLz9nO9Vp4khyRZkuS8JNsO7LNf2/7nSfYbKH9skvPbPockyXQxJEmSpJmMc+T4CGDXSWUHAadU1RbAKe05wLOALdpyAPBJ6BJd4J3A44HtgXcOJLufBF4xsN+uM8SQJEmSpjW25LiqvgtcN6l4d+Cz7fFngT0Gyo+szmnAukk2Bp4JnFxV11XV9cDJwK5t3TpVdVpVFXDkpLqmiiFJkiRNa7bnHG9UVVe1x1cDG7XHmwCXD2x3RSubrvyKKcqni3E3SQ5IcmaSM5cuXboc3ZEkSdJ8Mmcn5LUR35rLGFV1aFVtV1XbLVy4cJxNkSRJ0ipgtpPj37QpEbSf17TyK4HNBrbbtJVNV77pFOXTxZAkSZKmNdvJ8fHAxBUn9gO+NlC+b7tqxQ7AjW1qxGJglyTrtRPxdgEWt3U3JdmhXaVi30l1TRVDkiRJmtbq46o4yReBHYENk1xBd9WJg4FjkuwPXAa8sG1+IrAbsAT4b+ClAFV1XZL3AGe07f6pqiZO8ns13RUx7gOc1BamiSFJkiRNa2zJcVXtNWTVzlNsW8BrhtRzOHD4FOVnAo+eovzaqWJIkiRJM/EOeZIkSVJjcixJkiQ1JseSJElSY3IsSZIkNSbHkiRJUmNyLEmSJDUmx5IkSVJjcixJkiQ1JseSJElSY3IsSZIkNSbHkiRJUmNyLEmSJDUmx5IkSVJjcixJkiQ1JseSJElSY3IsSZIkNSbHkiRJUmNyLEmSJDUmx5IkSVJjcixJkiQ1JseSJElSY3IsSZIkNSbHkiRJUmNyLEmSJDUmx5IkSVJjcixJkiQ1JseSJElSY3IsSZIkNSbHkiRJUmNyLEmSJDUmx5IkSVJjcixJkiQ1JseSJElSY3IsSZIkNSbHkiRJUmNyLEmSJDUmx5IkSVJjcixJkiQ1JseSJElSY3IsSZIkNSbHkiRJUmNyLEmSJDUmx5IkSVJjcixJkiQ1JseSJElSY3IsSZIkNSbHkiRJUmNyLEmSJDUmx5IkSVJjcixJkiQ18zY5TrJrkp8mWZLkoLlujyRJklZ+q891A8YhyQLg48AzgCuAM5IcX1UXzbTvwrXX7709S2++rvc6JUmS1L/5OnK8PbCkqi6pqv8BjgZ2n+M2SZIkaSWXqprrNvQuyfOBXavq5e35PsDjq+q1k7Y7ADigPX048NNlDLUh8NsVbO7KEGO24tiXlTOOfVk549iXe3Yc+7JyxrEvK2ec5YmxeVUtnGrFvJxWMaqqOhQ4dHn3T3JmVW3XY5PmJMZsxbEvK2cc+7JyxrEv9+w49mXljGNfVs44fceYr9MqrgQ2G3i+aSuTJEmShpqvyfEZwBZJHpxkTWBP4Pg5bpMkSZJWcvNyWkVV3ZbktcBiYAFweFVdOIZQyz0lYyWLMVtx7MvKGce+rJxx7Ms9O459WTnj2JeVM06vMeblCXmSJEnS8piv0yokSZKkZWZyLEmSJE2oKpe20F3h4jvARcCFwOta+frAycDP28/1WnmAQ4AlwHnAtgN1fQO4AThhHDGArYEftjrOA140pjibA2cDP271vGocr1dbvw7dHQ0/Nsb35fbWlx8Dx48pxoOAbwIXt/oWjeF9edpAP34M/B7YYwx9+ZdWx8Vtm4zpNXs/cEFbXrQCMR5Bd1z8AXjjpM/RrnTXMl8CHLSCn7Hp4hwOXANcMI4Yw+oZQ5x7A6cD57Z63j2u16ytXwCcw8DvzJ7fl0uB8+mOlzPH+P6vCxwL/ITuuHlCz+/Lw7nrsX8TcOCY+vIPrY4LgC8C9x5DjNe1+i8c7Mdyxtmb7nfL+cB/AY+Z6fjvOcaUx36fcYbV03OMvo/9oa9Zj8f+dO/LpQw59octc56QrkwLsDF3Jh9rAz8DtqRLEA5q5QcB72+PdwNOovujvwPwo4G6dgaey92T415iAA8DtmiPHwhcBaw7hjhrAvdqj+/XPmQP7Pv1aus/CnyBuyfHfb4vt8zCe38q8IyB1+y+44gzUOf6wHUTcXp8758I/IDuF9cCuj9uO47hM/Zsul9yqwNr0V1tZp3ljPEA4HHA+7hrQrEA+AXw53Sf6XOBLVegL1PGaev+EtiWuyfHffVlynrGECfA/drjNYAfATuM4zVr619Pd/yfMI4YdL+7Nuzp+J8uzmeBlw/8/lx3HK/XwOf6arqbGfT9/m8C/BK4T3t+DPCSnmM8mi4xvi/d8f8t4KEr0Jcncmey9Czu/B0z9PjvK8Z0x37PfRl6/PcYo+9jf+hr1uOxP937cilDjv1hy5wnpCvzAnwNeAbdf5sbD7xhP22PPwXsNbD9Hdu15zsyKTnuO8ZA+bm0ZHlccYANgF/RkuM+YwCPpbvN90uYlBz3HGfK5LivGO3g/f5sfcZa2QHA58fQlycAZwH3ofvjdSbwyDHE+d/A2wfKDwNeuDwxBrZ7F3f9I/wEYPHA87cAb1nevgyLM1C+iCn+QPYZY3I944zT3v+z6e402nscumvRnwLsxDS/M1cwxqWM+AdyBT5n96dLKDOuGJPW7QL8YEx92QS4nO6f79WBE4Bdeo7xAuCwgedvB960on1p5esBV7bHIx//yxtjoGwRMxz7fcSZXM+4YtDjsT9VHHo+9ofEuJRlTI6dczxEkkXANnT/MW1UVVe1VVcDG7XHE788JlzRymY1RpLt6f4b/sU44iTZLMl5bf37q+rXfcZIshrwQeCNU7W/z74A905yZpLTkuwxhhgPA25I8tUk5yT5QJIFY+rLhD3pvvLsNUZV/ZDua62r2rK4qi4eQ1/OBXZNct8kG9JNGRm8ic+yxBhm5GN1BeOMpK8Yk+rpPU6SBUl+TPdV8clVNZY4wEeANwF/mqYtKxqjgG8mOSvJAWOK82BgKfCZdvx/OslaY+jLhKHH/orGqaorgX+lGxC5Crixqr7Zc18uAJ6SZIMk96X7dulux/5yxtmf7psqGPH4X8EYI+srznTH/4rGGOOxP7kvH6H/Y39yjJGO/UEmx1NIcj/gK3Tzn24aXFfdvyG1ssRIsjFwFPDSqrrbh6uPOFV1eVVtBTwU2C/JXT6MPcR4NXBiVV0x3UY9vWabV3eLyb8FPpLkIT3HWB14Cl2i/zi6r/FeMqa+TLz/f0F3Te9eYyR5KPBIuv/sNwF2SvKUvuO0P7gn0s0T+yLd9I3b+4wxqlXs2B9aT19xqur2qtqa7jOwfZJH9x0nyXOAa6rqrGm26eM1e3JVbUv3letrkvzlGOKsTve1+ierahvgVrqvfvvuC+0GV88Dvjxk/Yq+L+sBu9Ml/A8E1kry4j5jtH+23093jsY36OaE3j55u2WNk+RpdAnSm6eLP9sx+owzXT19xBjHsT85zjiO/SGv14zH/mQmx5MkWYPujfh8VX21Ff+mJSETycg1rXy5blPdV4wk6wD/Aby1qk4bd1/aiPEFdMlfnzGeALw2yaV0IxX7Jjl4HH1poyFU1SV0c4O36TnGFcCPq+qSqroN+He6P5a996V5IXBcVf1xDDH+Cjitqm6pqlvo/hN/wjj6UlXvq6qtq+oZdPPdfracMYaZ8fPdU5xp9RVjSD1j60tV3UD3LcKuY4jzJOB57fg/mu6fsM/13ZeBY/8a4Dhg+zH05QrgirpzlO1YBo7/nt+XZwFnV9VvJq/oKc7TgV9W1dL2++WrdPM6e+1LVR1WVY+tqr8Ermfg2F+eOEm2Aj4N7F5V17biaY//nmLMqK840x3/ffelr2N/SJxej/1hfZnp2J+KyfGAJKGb73hxVX1oYNXxwH7t8X50c18myvdNZwe6r52uYhp9xWijBscBR1bVsWOMs2mS+7Q61wOeTDfnp7cYVbV3VT2oqhbRjbgeWVV3jLb02Jf1ktyr1bkh3YF5UZ8x6E4mWzfJwrbdThMxeo4zYS8mfa3aY4xfAU9Nsnr7JfVUurPve42T7uu7DVqdWwFb0Y0kLU+MYaa9pXyPcYbqK8Y09fQdZ2GSddvj+9DN9/tJ33Gq6i1VtWk7/vcEvl1VL+65L2slWXviMd1c3QvG0JergcuTPLwV7czy/46Zyd2O/Z7j/ArYId10p7S+XNx3X5I8oP18EPDXdCdmLVdfWh1fBfapqsEke+jx32OMmfrZS5zpjv8eY/R67A+L0+exP01fpj32h6plmKA83xe6xK/oLgfy47bsRnci2il0lw75FrB+2z7Ax+nm+p4PbDdQ1/fo5p79jm404Zl9xgBeDPyRu17SZ+u++0J3UJxHNy/0POCAcbxeA3W+hLtfraKvvjyxPT+3/dx/TO/9xGt2PnAEsOaY4iyiG/1YbUyv1wK6k+gmLkn3oTHFuXer/yLgNFbsc/xndMfbTXSXUryCO698sRvdqNQv6L5tWZG+TBfni3RzNP/YyvfvM8awevruC90/Kee0ei4A3jGu12ygzh256xnrffXlz+mO+3PpLgs1zvd/a7qTV8+j++ZovTHEWAu4Frh/D3/Hpovzbrqk6AK66Xv3GkOM79Ed++cCO69gXz5NN/o8se2ZA3VNefz3HGPKY7/POMPq6TlG38f+0Nesx2N/WF+mPfaHLd4+WpIkSWqcViFJkiQ1JseSJElSY3IsSZIkNSbHkiRJUmNyLEm6mySvbJdvlKR7FJNjSZoHkuyRpJI8ooe63gFcX1XX99A0SVqleCk3SZoHknyJ7ja/366qd851eyRpVeXIsSSt4pLcj+6i+fvT3WmKJDsmOTXJsUl+kuTz7a5TJLk0ybuTnJ3k/InR5nY3qcOTnJ7knCS7t/IFST6Q5Iwk5yV55Rx1VZLGzuRYklZ9uwPfqO62qdcmeWwr3wY4ENiS7k5RTxrY57dVtS3wSbrbtgO8lW7keXvgacAH2i1X96e73ffjgMcBr0jy4DH3SZLmhMmxJK369gKObo+Pbs8BTq+qK6rqT3S3VF00sM9X28+zBsp3AQ5K8mPgVLpbez+ole/byn9EdwvXLXrvhSStBFaf6wZIkpZfkvWBnYC/SFLAAqCA/wD+MLDp7dz1d/4fpigP8DdV9dNJMQL8XVUt7r8HkrRyceRYklZtzweOqqrNq2pRVW0G/BJ4ynLUtRj4u4G5ydsMlP+vJGu08oe16RaSNO+YHEvSqm0v4LhJZV/hzqkVy+I9wBrAeUkubM8BPg1cBJyd5ALgU/jNo6R5yku5SZIkSY0jx5IkSVJjcixJkiQ1JseSJElSY3IsSZIkNSbHkiRJUmNyLEmSJDUmx5IkSVLz/wGrOfRddkD0owAAAABJRU5ErkJggg==\n",
       "datasetInfos": [],
       "metadata": {},
       "removedWidgets": [],
       "type": "image"
      }
     },
     "output_type": "display_data"
    }
   ],
   "source": [
    "# Distribution des crimes par année\n",
    "crimes_par_annee = df_clean.groupBy(\"Année\").count().orderBy(\"Année\")\n",
    "crimes_par_annee.show()\n",
    "\n",
    "# Visualisation\n",
    "crimes_par_annee_pd = crimes_par_annee.toPandas()\n",
    "\n",
    "plt.figure(figsize=(10,5))\n",
    "sns.barplot(data=crimes_par_annee_pd, x=\"Année\", y=\"count\", palette=\"mako\")\n",
    "plt.xlabel(\"Année\")\n",
    "plt.ylabel(\"Nombre de crimes\")\n",
    "plt.title(\"Distribution des crimes par année\")\n",
    "plt.tight_layout()\n",
    "plt.show()"
   ]
  },
  {
   "cell_type": "code",
   "execution_count": 0,
   "metadata": {
    "application/vnd.databricks.v1+cell": {
     "cellMetadata": {
      "byteLimit": 2048000,
      "rowLimit": 10000
     },
     "inputWidgets": {},
     "nuid": "9cd1e281-04cb-47d6-8a0f-d1c0cf0f2e38",
     "showTitle": false,
     "tableResultSettingsMap": {},
     "title": ""
    }
   },
   "outputs": [
    {
     "name": "stdout",
     "output_type": "stream",
     "text": [
      "+---------------------+-----+\n",
      "|Secteur de patrouille|count|\n",
      "+---------------------+-----+\n",
      "|                  421|59941|\n",
      "|                  423|58931|\n",
      "|                 1834|57559|\n",
      "|                  624|54764|\n",
      "|                  511|52972|\n",
      "|                 1533|51974|\n",
      "|                  823|51054|\n",
      "|                 1112|50582|\n",
      "|                  414|48212|\n",
      "|                 1522|47567|\n",
      "+---------------------+-----+\n",
      "only showing top 10 rows\n",
      "\n",
      "+------------------+------+\n",
      "|District de police| count|\n",
      "+------------------+------+\n",
      "|                 8|515807|\n",
      "|                11|487497|\n",
      "|                 6|451391|\n",
      "|                 4|436896|\n",
      "|                 7|435885|\n",
      "|                25|431904|\n",
      "|                 3|389097|\n",
      "|                12|383042|\n",
      "|                 9|370512|\n",
      "|                 2|350238|\n",
      "+------------------+------+\n",
      "only showing top 10 rows\n",
      "\n",
      "+------------------+------+\n",
      "|Zone communautaire| count|\n",
      "+------------------+------+\n",
      "|                25|471445|\n",
      "|                 8|273310|\n",
      "|                43|252660|\n",
      "|                28|236868|\n",
      "|                23|236684|\n",
      "|                24|224067|\n",
      "|                29|221277|\n",
      "|                71|215576|\n",
      "|                67|213244|\n",
      "|                49|201119|\n",
      "+------------------+------+\n",
      "only showing top 10 rows\n",
      "\n"
     ]
    }
   ],
   "source": [
    "# Secteur de patrouille\n",
    "secteur_counts = df_clean.groupBy(\"Secteur de patrouille\").count().orderBy(\"count\", ascending=False)\n",
    "secteur_counts.show(10)\n",
    "\n",
    "# District de police\n",
    "district_counts = df_clean.groupBy(\"District de police\").count().orderBy(\"count\", ascending=False)\n",
    "district_counts.show(10)\n",
    "\n",
    "# Zone communautaire\n",
    "zone_counts = df_clean.groupBy(\"Zone communautaire\").count().orderBy(\"count\", ascending=False)\n",
    "zone_counts.show(10)"
   ]
  },
  {
   "cell_type": "code",
   "execution_count": 0,
   "metadata": {
    "application/vnd.databricks.v1+cell": {
     "cellMetadata": {
      "byteLimit": 2048000,
      "rowLimit": 10000
     },
     "inputWidgets": {},
     "nuid": "e6470948-b9ec-4276-bb76-dd8b4ff21b19",
     "showTitle": false,
     "tableResultSettingsMap": {},
     "title": ""
    }
   },
   "outputs": [
    {
     "data": {
      "image/png": "[encoded data removed]"
     },
     "metadata": {
      "application/vnd.databricks.v1+output": {
       "addedWidgets": {},
       "arguments": {},
       "data": "data:image/png;base64,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\n",
       "datasetInfos": [],
       "metadata": {},
       "removedWidgets": [],
       "type": "image"
      }
     },
     "output_type": "display_data"
    }
   ],
   "source": [
    "zone_counts_pd = zone_counts.toPandas()\n",
    "plt.figure(figsize=(12,6))\n",
    "sns.barplot(\n",
    "    data=zone_counts_pd.head(10),\n",
    "    x=\"count\",\n",
    "    y=\"Zone communautaire\",\n",
    "    palette=\"crest\"\n",
    ")\n",
    "plt.xlabel(\"Nombre de crimes\")\n",
    "plt.ylabel(\"Zone communautaire\")\n",
    "plt.title(\"Top 10 des zones communautaires par nombre de crimes\")\n",
    "plt.tight_layout()\n",
    "plt.show()"
   ]
  },
  {
   "cell_type": "code",
   "execution_count": 0,
   "metadata": {
    "application/vnd.databricks.v1+cell": {
     "cellMetadata": {
      "byteLimit": 2048000,
      "rowLimit": 10000
     },
     "inputWidgets": {},
     "nuid": "2baad46d-259e-4f0c-b7ae-9a980caf2def",
     "showTitle": false,
     "tableResultSettingsMap": {},
     "title": ""
    }
   },
   "outputs": [
    {
     "name": "stdout",
     "output_type": "stream",
     "text": [
      "+-----------------------+-------+\n",
      "|Arrestation (Oui / Non)|  count|\n",
      "+-----------------------+-------+\n",
      "|                   true|1912149|\n",
      "|                  false|5729687|\n",
      "+-----------------------+-------+\n",
      "\n"
     ]
    },
    {
     "data": {
      "image/png": "[encoded data removed]"
     },
     "metadata": {
      "application/vnd.databricks.v1+output": {
       "addedWidgets": {},
       "arguments": {},
       "data": "data:image/png;base64,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\n",
       "datasetInfos": [],
       "metadata": {},
       "removedWidgets": [],
       "type": "image"
      }
     },
     "output_type": "display_data"
    },
    {
     "name": "stdout",
     "output_type": "stream",
     "text": [
      "+-------------------------------+-------+\n",
      "|Violence domestique (Oui / Non)|  count|\n",
      "+-------------------------------+-------+\n",
      "|                           true|1329351|\n",
      "|                          false|6312485|\n",
      "+-------------------------------+-------+\n",
      "\n"
     ]
    },
    {
     "data": {
      "image/png": "[encoded data removed]"
     },
     "metadata": {
      "application/vnd.databricks.v1+output": {
       "addedWidgets": {},
       "arguments": {},
       "data": "data:image/png;base64,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\n",
       "datasetInfos": [],
       "metadata": {},
       "removedWidgets": [],
       "type": "image"
      }
     },
     "output_type": "display_data"
    }
   ],
   "source": [
    "# Part des arrestations\n",
    "arrest_counts = df_clean.groupBy(\"Arrestation (Oui / Non)\").count()\n",
    "arrest_counts.show()\n",
    "\n",
    "# Visualisation\n",
    "arrest_counts_pd = arrest_counts.toPandas()\n",
    "plt.figure(figsize=(5,5))\n",
    "plt.pie(arrest_counts_pd[\"count\"], labels=arrest_counts_pd[\"Arrestation (Oui / Non)\"], autopct='%1.1f%%', colors=[\"#66c2a5\", \"#fc8d62\"])\n",
    "plt.title(\"Part des infractions avec arrestation\")\n",
    "plt.show()\n",
    "\n",
    "# Part des violences domestiques\n",
    "domestic_counts = df_clean.groupBy(\"Violence domestique (Oui / Non)\").count()\n",
    "domestic_counts.show()\n",
    "\n",
    "# Visualisation\n",
    "domestic_counts_pd = domestic_counts.toPandas()\n",
    "plt.figure(figsize=(5,5))\n",
    "plt.pie(domestic_counts_pd[\"count\"], labels=domestic_counts_pd[\"Violence domestique (Oui / Non)\"], autopct='%1.1f%%', colors=[\"#8da0cb\", \"#e78ac3\"])\n",
    "plt.title(\"Part des infractions liées à la violence domestique\")\n",
    "plt.show()"
   ]
  },
  {
   "cell_type": "code",
   "execution_count": 0,
   "metadata": {
    "application/vnd.databricks.v1+cell": {
     "cellMetadata": {
      "byteLimit": 2048000,
      "rowLimit": 10000
     },
     "inputWidgets": {},
     "nuid": "b6c1a260-1d49-49b2-8c5d-c2c978b2a8c6",
     "showTitle": false,
     "tableResultSettingsMap": {},
     "title": ""
    }
   },
   "outputs": [
    {
     "name": "stdout",
     "output_type": "stream",
     "text": [
      "+--------------------+-------+\n",
      "| Description du lieu|  count|\n",
      "+--------------------+-------+\n",
      "|              STREET|1979369|\n",
      "|           RESIDENCE|1232684|\n",
      "|           APARTMENT| 938378|\n",
      "|            SIDEWALK| 716373|\n",
      "|               OTHER| 239110|\n",
      "|PARKING LOT/GARAG...| 181688|\n",
      "|               ALLEY| 171469|\n",
      "|  SMALL RETAIL STORE| 156276|\n",
      "|SCHOOL, PUBLIC, B...| 131365|\n",
      "|          RESTAURANT| 130300|\n",
      "+--------------------+-------+\n",
      "only showing top 10 rows\n",
      "\n"
     ]
    },
    {
     "data": {
      "image/png": "[encoded data removed]"
     },
     "metadata": {
      "application/vnd.databricks.v1+output": {
       "addedWidgets": {},
       "arguments": {},
       "data": "data:image/png;base64,iVBORw0KGgoAAAANSUhEUgAAA1gAAAGoCAYAAABbkkSYAAAAOXRFWHRTb2Z0d2FyZQBNYXRwbG90bGliIHZlcnNpb24zLjUuMSwgaHR0cHM6Ly9tYXRwbG90bGliLm9yZy/YYfK9AAAACXBIWXMAAAsTAAALEwEAmpwYAABC30lEQVR4nO3dd7hdVZ3/8fcHAlICCIJKkygiCoIRMrYRBWUUHRRHUYgoos4g9l5xRsafvY51FBuKKGIDdCxYQFFRDBpDUVAEBEQpKhgpUr6/P/a6cjjccm7YyU1y36/nOU/OXnuttb97nXNuzveutfdNVSFJkiRJuu3WmOkAJEmSJGl1YYIlSZIkST0xwZIkSZKknphgSZIkSVJPTLAkSZIkqScmWJIkSZLUExMsSdIKkeSwJJ9eXn0muUuSpUnW7PMYI8RwUpJ/X4HHm5ekkszpud/tkyxO8tckL5ii7rpJfpjkX/uMYbZJcn6SPXvu88wku49Yd+TXvA/TiU1alZlgSdIqoiUPY4+bklwzsH1AT8d4UpIfJbk6yUnj7J+f5LS2/7Qk8/s4bh+q6ndVNbeqbpzpWFZRrwBOrKoNquq9U9T9MPCuqvq/FRDXpJLsnuSimY5jZVFVO1bVSSNWn85rPi1JjkjyhtsQm7TKMsGSpFVESx7mVtVc4HfAYwbKjurpMH8C/gd4y/COJGsDxwGfBjYGPgkc18q16tsGOHOinYMzg1V1YFV9cYVEtRpIZ2X8zjXyay5pdCvjh12SNA1Jbpfkf5L8vj3+J8nt2r7dk1yU5DVJLm9Lkiac7aqqb1fVMcDvx9m9OzAH+J+quq79xjvAwyaI665JvteWH30L2HRo/wPabNlfkvxicOlQkoOS/La1PW+UGbrhpXNJNkrysSSXJLk4yRvGvjAOL1ccbJtkkzZmj2n75ib5TZIDp4qh1X9Gkl8m+XOSbybZppUnybuTXJrkqiSnJ7n3BH2clOTNSU5tdY9LsskEdW+xzCy3XDa5TpJPJ7mijfNPk9xpnD6+C+wBvL/NiN6jzUD8b5KvJfkbsEeSLZJ8Mcll7XV5wUAf67Y2f05yVpKXD84stfG9+8D2LWY4kuydbrnaX9r7Yuehc3xZkiVJrkzyuXZu6wNfB7bIzbO5WyS5X5JFbez+mORdE4zdpJ+P9h76VDvfC5K8Ni1Rmuw9NPAavjHJD4GrgbuNF8NA+zWSvCrJue31OmbsNR/1dRwYqz0HYjymncNf0y3RWzDN1/xfk/y8jeWFSQ4bOt6Dc/Pn+MJ0n92DgQOAV7S+vzJObKP83Hppus/LJUmePnDMR7f32F/TfbZfNtnYSiuaCZYkrfoOBR4AzAfuA9wPeO3A/jvTJTdbAk8DDk+y/TIcZ0dgSVXVQNmSVj6ezwCntWP/v3ZsAJJsCfwf8AZgE+BlwBeTbNa+NL8XeFRVbQA8CFi8DPEeAdwA3B24L/AIYMprparqT8AzgI8kuSPwbmBxVX1qqrZJ9gFeAzwe2Aw4Gfhs2/0I4CHAPYCNgCcBV0zS3YEtjs3beSzLEq6ntWNtDdwBOAS4ZrhSVT2sxfq8NiN6Ttv1ZOCNwAbAj4CvAL+gey89HHhRkke2uq8Dtm2PRzLwek8lyX2BjwPPanF+GDh+7At38yRgL+CuwM7AQVX1N+BRwO8HZnN/D7wHeE9VbdjiOWaSw0/2+Xgf3fjdDXgo3Wvy9PE6mcBTgYPpxu+CKeo+H3hcO84WwJ+BD7R9I72OE3gscDRwe+B44P0w8mv+A+BvdOd9e+BfgWcneRxAul8efJ1unDaj+xm0uKoOB44C3tb6fsw4cY3yc2sjutflmcAHkmzc9n0MeFb7+XBv4LsjjoW0QphgSdKq7wDg9VV1aVVdBvw33Re7Qf/ZZp2+R5fYPGkZjjMXuHKo7Eq6L2K3kOQuwD8NHPf7dF/OxzwF+FpVfa2qbqqqbwGLgEe3/TcB906yblVdUlUTLmMaT/vt/qOBF1XV36rqUrpEaf9R2lfVCcDnge+0fp414qEPAd5cVb+sqhuANwHz2xfR6+nG6p5AWp1LJunryKo6oyUR/wk8KdNfsnU93Rfyu1fVjVV1WlVdNY32x1XVD6vqJmAnYLOqen1V/b2qfgt8hJvH9EnAG6vqT1V1IdNLCA8GPlxVP2lxfhK4ju4L+Jj3VtXvWwL8Fbov5hO5Hrh7kk2ramlV/XiK49/q89HGen/g1VX116o6H3gnt/5sTeaIqjqzqm6oquunqHsIcGhVXVRV1wGHAfu2GbHb8jr+oH3ObgSOpEtmJvOP17yqrq2qk6rq9La9hO4XBg9tdZ8MfLuqPltV11fVFVW1eMS4pvq5dX3bf31VfQ1YCmw/sG+HJBtW1Z+r6mcjHlNaIUywJGnVtwW3/O34Ba1szJ/bl/SJ9o9qKbDhUNmGwF8niGm8447ZBnhiW1b0lyR/AR4MbN7a7Ef3hfOSJP+X5J7TjHUbYK3Wfqz/DwN3nEYfh9P9dvyIqppspmn4uO8ZOOaf6JZRbllV36WbPfgAcGmSw5MMj+egCweeX9DOZ9MJ6k7kSOCbwNFtGdbbkqw1jfaDMWxDtxRv8DV7DTC2VG2LcWIe1TbAS4f63ppbvk//MPD8arqEfyLPpJsp/FVbTrf3JHUn+nxsSjfmw5+tLac6mQEXTl3lH7YBvjxw/r8EbqQb39vyOg6P2zqZ/A6Ut4g5yf2TnNiWSV5J97kcex9uDZw7YhzDpvq5dUX7JcVg7GOv+RPofvFxQbplyA9cxhik5cIES5JWfb+n+3I25i7c8hqqjduyu4n2j+pMYOckGSjbmfEvkr9kguOOuZBuhub2A4/1q+otAFX1zar6F7rlcb+imymZjgvpZkA2Heh/w6oaW874N2C9gfp3HmzcZi8OBz4FPCcD1w6NcNxnDZ3XulX1o3Ze762qXYEd6BKAl0/S19YDz+9C91v7y8epN+G5tN/+/3dV7UC31HJvuuVeoxpcDnohcN7QuW1QVWOzjpeME/OgqyeKs/X9xqG+16uqzzK1ulVB1a+raiFdQv1W4AtD78VBE30+Lqcb8+HP1sXt+aTvoYlim8SFdMtiB8dgnaq6uIfXcTqGY/4M3dLCratqI+BDdL80GIt52xH7GTbVz62JA6z6aVXtQ/f6HsvkS0ClFc4ES5JWfZ8FXtuuX9oU+C+6O/0N+u8kayfZje7L2efH6yjJmknWobuZxRrpLq4f+035SXS/UX9Bu0D9ea38Vtc/VNUFdEv+xo77YGDwOoxPA49J8sixY7YL27dKcqck+7QvvdfRzZzdNJ0BaUvvTgDemWTDdDcQ2DbJ2NKmxcBD0v3trI2AVw918Rq6L4jPAN4OfGrE5XkfAl6dZEf4x00Sntie/1ObDViL7sv5tVOc11OS7JBkPeD1wBdq/FvQLwb2T7JWuhsY7Du2I8keSXZqsV9FlzBMaywHnAr8Nckr093QYs0k907yT23/Me3cN06yFd01RcNxPrm124ubl5lBl0Af0sYnSdZPd3OFWy0/HccfgTu01xGAJE9Jsllb2viXVjzZed/q89HG+hjgjUk2aMs8X8LNn63FTP4emq4PtWON3RRls3TX9PX9Ok7XBsCfquraJPejWxY45ihgz3R/3mFOkjvk5j/d8Ecmv7HHKD+3bqW9Tgck2agtu7yKFTcW0khMsCRp1fcGumRmCXA68LNWNuYPdBfM/57uC9EhVfWrCfp6Kt3F8/8L7NaefwSgqv5OdxH+gXRfWp8BPK6Vj+fJwP3plsm9jm42iNbXhcDYDSEuo/tN+Mvp/l9ag+6L7O9b24cCz556GG7lQGBt4Cy68/8C3YwY7Zqvz9GN2WnAV8caJdm1Hf/A9iX7rXTJ1qumOmBVfbnVPzrJVcAZdDdhgG455UdaLBfQ3eDi7ZN0dyTdjTr+AKwDTPSHYP+Tbhbhz3TXsXxmYN+d23lfRbfk7Hut32lrY7E33bVP59HN8HyU7kYEtGNf0PadMM5xXkiXZP+F7vqbYwf6XgT8B90Syj8DvwEOGjGuX9F9Wf9tW163Bd3NMM5MspTuhhf7V9VEN4WY7PPxfLpk+Ld0N3z4DN3NOCZ9Dy2j99DNFJ2Q5K/Aj+k+P9Dj67gMngO8vsX0XwzMFlXV7+iW6r2U7rO6mJuv8foY3XVSf0ly7Dj9TvVzazJPBc5vn7FD6N5P0kojVdOZvZYkrUrS3fr801W11QyHomlI90eeP11VH53pWJbVqvDeWxVilLTqcQZLkiRJknpigiVJkiRJPXGJoCRJkiT1xBksSZIkSerJZH9oTtIENt1005o3b95MhyFJkqQZctppp11eVZsNl5tgSctg3rx5LFq0aKbDkCRJ0gxJcsF45S4RlCRJkqSemGBJkiRJUk+8i6C0DNaas15tvOHdZzoMSZKkWe3SPy2ZsWMnOa2qFgyXO4MlSZIkST0xwZIkSZKknphgSZIkSVJPTLAkSZIkqScmWJIkSZLUExMsSZIkSeqJCZYkSZIk9cQES5IkSZJ6YoIlSZIkST0xwZIkSZKknsyZ6QCkMUkOBZ4M3AjcBPwZ2BiYC2wGnNeqPgd4E7A5cC3wd+A/qmpx6+d84K+tH4DvV9ULkhwBPBS4spVfDXwEeGHb3gE4u7X7RlW9ajmcpiRJklZjJlhaKSR5ILA3sEtVXZdkU2Dtqvp9kt2Bl1XV3gP1AQ6oqkVJng68HfiXgS73qKrLxznUy6vqC0Nln2h9nj9JO0mSJGlKLhHUymJz4PKqug6gqi6vqt+P2PYUYMvlFpkkSZI0IhMsrSxOALZOck6SDyZ56DTa7gUcO1R2YpLF7fHigfK3D5QfdVuDliRJkga5RFArhapammRXYDdgD+BzSV5VVUdM0uyoJGvTXaM1f2jfdJYIjiTJwcDBAGussdaydCFJkqTVnDNYWmlU1Y1VdVJVvQ54HvCEKZocANwN+CTwvhUQ3+FVtaCqFqwRfzchSZKkWzPB0kohyfZJthsomg9cMFW7qirgP4EHJLnncgpPkiRJGom/htfKYi7wviS3B24AfkNbjjeVqromyTuBlwPPbMUnJhm7TfuSqjqwPX97ktcONL9fVf39NkcvSZIkAekmACRNx1pz1quNN7z7TIchSZI0q136pyUzduwkp1XVguFylwhKkiRJUk9MsCRJkiSpJyZYkiRJktQTEyxJkiRJ6okJliRJkiT1xARLkiRJknpigiVJkiRJPTHBkiRJkqSemGBJkiRJUk/mzHQA0qroPvN3YNGiRTMdhiRJklYyzmBJkiRJUk9MsCRJkiSpJyZYkiRJktQTEyxJkiRJ6okJliRJkiT1xARLkiRJknqSqprpGKRVzvpr36F2vOOjZzoMSdIKcupFR850CJJWMklOq6oFw+XOYEmSJElST0ywJEmSJKknJliSJEmS1BMTLEmSJEnqiQmWJEmSJPXEBEuSJEmSemKCJUmSJEk9McGSJEmSpJ6YYEmSJElST0ywJEmSJKknJliSJEmS1BMTLC2zJDcmWZzkjCRfSXL7Vj4vyTVt39jjwLbvGUlOT7KktdunlR+RZN/2/KQkZ7c6v0ry/rG+h4479njVQLtFA/UWJDlpYPt+Sb7f+v55ko8mWS/JQUkuG+pzhxUwhJIkSVrNzJnpALRKu6aq5gMk+STwXOCNbd+5Y/vGJNkKOBTYpaquTDIX2GyCvg+oqkVJ1gbeDBwHPHT4uOO4Y5JHVdXXh459J+DzwP5VdUor2xfYoFX5XFU9b4RzliRJkibkDJb6cgqw5RR17gj8FVgKUFVLq+q8yRpU1d+BVwB3SXKfEeJ4O10SN+y5wCfHkqvW9xeq6o8j9ClJkiSNxARLt1mSNYGHA8cPFG87tORuN+AXwB+B85J8IsljRum/qm5sbe/ZitYd6nu/geqnAH9PssdQN/cGTpvkMPsN9bnuOOd5cJJFSRbdcNN1o4QuSZKkWcYlgrot1k2ymG7m6pfAtwb23WqJIECSvYB/okvI3p1k16o6bIRjZeD5ZEsEAd4AvBZ45Qj9jplyiWBVHQ4cDrD+2neoafQtSZKkWcIZLN0WY4nONnQJ0HOnalCdU6vqzcD+wBOmatNmyHaiS+KmVFXfBdYFHjBQfCaw6yjtJUmSpGVlgqXbrKquBl4AvDTJhLOiSbZIsstA0Xzggsn6TrIW3U0uLqyqJdMI6w10126NeT/wtCT3H+j78e3mF5IkSVIvXCKoXlTVz5MsARYCJ9OuwRqo8nG6OwG+I8kWwLXAZcAhE3R5VJLrgNsB3wb2Gdi37lDf36iqVw3F87Uklw1s/zHJ/u34dwRuAr4PfKNV2S/Jgwe6eE5V/WiEU5ckSZL+IVVeSiJN1/pr36F2vOOjZzoMSdIKcupFR850CJJWMklOq6oFw+UuEZQkSZKknphgSZIkSVJPTLAkSZIkqScmWJIkSZLUExMsSZIkSeqJCZYkSZIk9cQES5IkSZJ6YoIlSZIkST2ZM9MBSKuie+18V05d5B+dlCRJ0i05gyVJkiRJPTHBkiRJkqSemGBJkiRJUk9MsCRJkiSpJyZYkiRJktQTEyxJkiRJ6okJliRJkiT1xL+DJS2D355+IU/a9iUzHYakWe6Yc9810yFIkoY4gyVJkiRJPTHBkiRJkqSemGBJkiRJUk9MsCRJkiSpJyZYkiRJktQTEyxJkiRJ6okJliRJkiT1xARLkiRJknpigiVJkiRJPTHBkiRJkqSemGBpmSR5XJJKcs+2PS/JNUkWJzkryYeSrNH2bZrk+iSHDPVxfpLTkyxJ8r0k2yT5cuvjN0mubM8XJ3lQkpOS/C5JBvo4NsnScWIYexw4cKwvDrTbN8kRSZ4+UPfvLZ7FSd6yIsZRkiRJq5c5Mx2AVlkLgR+0f1/Xys6tqvlJ5gDfBR4HfAl4IvDjVvdDQ/3sUVWXJ/lv4LVV9W8ASXYHXlZVe49VbHnVX4B/Bn6Q5PbA5kP9nVtV8yeIedckO1TVWWMFVfUJ4BOt//PH4hllACRJkqRhzmBp2pLMBR4MPBPYf3h/Vd0A/Ai4eytaCLwU2DLJVhN0ewqw5QiHP3rgmI+nS+BG9U7g0GnUlyRJkqbFBEvLYh/gG1V1DnBFkl0HdyZZD3g4cHqSrYHNq+pU4Bhgvwn63As4doRjfwd4SJI16RKtzw3t33ZoieBuA/uOAXZJcneWQZKDkyxKsui6m65Zli4kSZK0mjPB0rJYSDeTRPt3YXu+bZLFwA+B/6uqr9MlVMeMU3fMiUkuBh4FfHaEY99ItzRxf2Ddqjp/aP+5VTV/4HHyUNu3A68e4Ti3UlWHV9WCqlpwuzXWXZYuJEmStJrzGixNS5JNgIcBOyUpYE2ggA8w/vVPC4E7JzmgbW+RZLuq+nXb3oPuuqqjgP8GXjJCGEcDXwYOW4ZTOJIuwTpjGdpKkiRJk3IGS9O1L3BkVW1TVfOqamvgPGDr4YpJ7gHMraotW915wJsZmsVq12y9CDiwJXBTObn1M8qM1y1U1fXAu4EXT7etJEmSNBUTLE3XQrrZo0FfZPxldxPVHV4mSFVdQpcwPXeqAKrzjgnu9jd8DdYLxqnzMZy9lSRJ0nKQqprpGKRVzia3u1PtudUBU1eUpOXomHPfNdMhSNKsleS0qlowXO4MliRJkiT1xARLkiRJknpigiVJkiRJPTHBkiRJkqSemGBJkiRJUk9MsCRJkiSpJyZYkiRJktQTEyxJkiRJ6okJliRJkiT1ZM5MByCtiu6209Ycs+hdMx2GJEmSVjLOYEmSJElST0ywJEmSJKknJliSJEmS1BMTLEmSJEnqiQmWJEmSJPXEBEuSJEmSeuJt2qVlcNFZF/Gy+75ypsOQZpV3/PytMx2CJElTcgZLkiRJknpigiVJkiRJPTHBkiRJkqSemGBJkiRJUk9MsCRJkiSpJyZYkiRJktQTEyxJkiRJ6okJliRJkiT1xARLkiRJknpigiVJkiRJPTHBUu+SHJrkzCRLkixOcv8kJyVZ0Pafn+T09jgryRuSrNP2zUtyTWs39jgwyQuT/M/AMT6c5NsD289P8t6B7cVJjh6K64gk+w6VzUtyxsD2fyQ5LcnGvQ+MJEmSVntzZjoArV6SPBDYG9ilqq5Lsimw9jhV96iqy5PMBQ4HPgw8re07t6rmD/W7ADhgoOg+wJpJ1qyqG4EHAce1uvcC1gR2S7J+Vf1txNifCjwfeFhV/Xm0M5YkSZJu5gyW+rY5cHlVXQdQVZdX1e8nqlxVS4FDgMcl2WSSfhcD90iybpKNgGta2U5t/4OAH7bnC4EjgROAfUYJOsmTgFcBj6iqy0dpI0mSJA0zwVLfTgC2TnJOkg8meehUDarqKuA8YLtWtO3QEsHdquoG4OfAPwEPAH4C/Bh4UJItgVTVha39fsDRwGfpkq2pbAO8ny65+sPopypJkiTdkksE1auqWppkV2A3YA/gc0leNULTDDy/1RLB5kd0M1XrAqcAvwZeA1zW9o0tJby8qn6X5GLg40k2qao/TXLsy4A/AU8C3j1hgMnBwMEAG6y14QinJEmSpNnGBEu9a9dEnQSclOR0br62alxJNgDmAecAG01S9Yd0ywnXAT5AlxjtwECCRTdjdc8k57ftDYEnAB+ZpN+rgUcDJye5tKqOmuC8Dqe7Xow7r3fnmuycJEmSNDu5RFC9SrJ9ku0GiuYDF0xSfy7wQeDYEW4scQrd8sDNqurSqiq65Gof4IdJ1qCbhdqpquZV1by2b8plglV1KbAX8KYkj5yqviRJkjQeEyz1bS7wyXb79SV0M0yHjVPvxHZ79FOB3wHPGtg3fA3WCwBaAnYZcOZA3VOAOwK/oFuWePHQTTW+D+yQZPO2/eEkF7XHKYMBVdV5wGPplhXeb5nOXpIkSbNaukkASdNx5/XuXE/ZftKVj5J69o6fv3WmQ5Ak6R+SnFZVC4bLncGSJEmSpJ6YYEmSJElST0ywJEmSJKknJliSJEmS1BMTLEmSJEnqiQmWJEmSJPXEBEuSJEmSemKCJUmSJEk9McGSJEmSpJ7MmekApFXRVjtsxTsWvXWmw5AkSdJKxhksSZIkSeqJCZYkSZIk9cQES5IkSZJ6YoIlSZIkST0xwZIkSZKknphgSZIkSVJPvE27tAwuO/tiPrj7a2Y6jJXec05600yHIEmStEI5gyVJkiRJPTHBkiRJkqSemGBJkiRJUk9MsCRJkiSpJyZYkiRJktQTEyxJkiRJ6okJliRJkiT1xARLkiRJknpigiVJkiRJPTHBkiRJkqSemGBJkiRJUk9MsLRSSrJVkuOS/DrJuUnek+SRSRa3x9IkZ7fnn0qye5KvDvVxRJJ92/OTBuovTvKFVn5Ykotb2VlJFs7E+UqSJGn1YIKllU6SAF8Cjq2q7YB7AHOBPatqflXNBxYBB7TtA0fseqz+/Krad6D83a3PfYAPJ1mrt5ORJEnSrGKCpZXRw4Brq+oTAFV1I/Bi4BlJ1lteB62qXwNXAxsvr2NIkiRp9TZnpgOQxrEjcNpgQVVdleR3wN2BJRO02y3J4oHtuwCDywaPSnJNe/6tqnr5YOMkuwC/rqpLx+s8ycHAwQCb3G7DEU9FkiRJs4kJllYnJ1fV3mMbSY4Y2n9AVS0ap92LkzydbiniYybqvKoOBw4H2GaDzeu2hytJkqTVjUsEtTI6C9h1sCDJhnQzUr9ZDsd7d1XtCDwB+FiSdZbDMSRJkjQLmGBpZfQdYL0kBwIkWRN4J3BEVV29vA5aVcfT3TzjacvrGJIkSVq9mWBppVNVBfwb8MQkvwbOAa4FXnMbuz5q4Dbt356gzuuBlyTxsyFJkqRp8xosrZSq6kImvx5q96Htk4CThsoOmqj+QPlhQ9unAdtPK1hJkiSp8bf0kiRJktQTEyxJkiRJ6okJliRJkiT1xARLkiRJknpigiVJkiRJPRnpLoJJ/gpU21wbWAv4W1VtuLwCkyRJkqRVzUgJVlVtMPY8SYB9gAcsr6AkSZIkaVU07SWC1TkWeGT/4UiSJEnSqmvUJYKPH9hcA1gAXLtcIpJWAZttvyXPOelNMx2GJEmSVjIjJVjAYwae3wCcT7dMUJIkSZLUjHoN1tOXdyCSJEmStKob6RqsJPdI8p0kZ7TtnZO8dvmGJkmSJEmrllFvcvER4NXA9QBVtQTYf3kFJUmSJEmrolETrPWq6tShshv6DkaSJEmSVmWjJliXJ9mW9seGk+wLXLLcopIkSZKkVdCodxF8LnA4cM8kFwPnAU9ZblFJkiRJ0ipo1LsI/hbYM8n6wBpV9dflG5a0crvqNxfzjce9aqbDWG72OvYtMx2CJEnSKmnSBCvJU6rq00leMlQOQFW9aznGJkmSJEmrlKlmsNZv/24wzr7qORZJkiRJWqVNmmBV1Yfbv/89vC/Ji5ZTTJIkSZK0Shr1LoLjecnUVSRJkiRp9rgtCVZ6i0KSJEmSVgO3JcHyGixJkiRJGjDVXQT/yviJVIB1l0tEkiRJkrSKmuomF+PdPVCSJEmSNI7bskRQkiRJkjTABEuSJEmSemKCJUmSJEk9WW4JVpIbkyxOckaSzydZr5XPSXJZkrcM1T8pydlJfpHkp0nmD+w7P8mm7fmuSc5Lct8kByV5fys/LMnVSe440G7pwPM7JflMkt8mOS3JKUn+bZy45yU5Y5zyrZIcl+TXSc5N8p4kayd5ZDvPxUmWtnNYnORTA21PS3K7JHOT/G9r/7NW/h9Dx3lRkmuTbDRQtnuSK1u/v0ryjqE2mya5PskhQ+UTnvNQn2OPPdu+dZN8L8mabTwqyfMH+n1/koPa8yR5bRuXc5KcmGTHodfuiwPb+yY5YoJxv6bFcVaSTyVZa4RYD01yZpIlrfz+rfykJAsGYji9Pc5K8oYk6wzH0Op+O8nG4+2TJEmSprI8Z7Cuqar5VXVv4O/A2Jf/fwHOAZ6YZPhvaR1QVfcBPgi8fbjDJDsDXwD2q6qfj3PMy4GXjtMuwLHA96vqblW1K7A/sNUoJ9Lafwk4tqq2A+4BzAXeWFXfbOc5H1jUzmF+VR3Y2t4VuLiqrgM+CvwZ2K6qdgH2AjYZOtxC4KfA44fKT27HuC+wd5J/Htj3RODHre10zvnksdjb49ut/BnAl6rqxrZ9KfDCJGuPMzzPBR4E3Keq7gG8GTh+KIHZNckO47Qddm47x51anE+aLNYkDwT2Bnapqp2BPYELJ+h7j6raCbgfcDfgwxPUOxJ4zgixSpIkSbeyopYIngzcvT1fCLwH+B3wwAnqnwJsOVR2L7qE4alVdeoE7T4O7JdkOGl5GPD3qvrQWEFVXVBV7xsx/ocB11bVJ1rbG4EXA89Im5mbxF7AN5JsS/fl/rVVdVPr57KqeutYxVZnLvBaBpKlQVV1DbCYW47PQrrEcsskYwnUbTnnA4DjBrYvA74DPG2cuq8EnldVV7djnAD8qPUx5p3AoSMcdyzOG4FTufV7YNjmwOUteaWqLq+q30/R91K6ZP9x47xPAI5ngrFPcnCSRUkWXfn3q6c6DUmSJM1Cyz3BSjIHeBRwepvV2BP4CvBZJvgiS5eUHDtUdhzdF/kfTHK4pXRJ1guHyncEfja9yG/V/rTBgqq6ii5JvPu4LW62F/CN1scvxpKrCewPHE2XkG6f5E7DFdryte2A77ftrYHNW9J5DLDfQMxTnfNuQ8vutm2zVHerqvOH6r4VeFmSNQdi2RBYv6p+O1R3UTv+mGOAXZJMNVZj/a4D3J9u3CaMFTgB2LotTfxgkoeO0n977c6jG8fhfX8GbpfkDuPsO7yqFlTVgo3WniqvliRJ0my0PBOsdZMspvuy/TvgY3TLuU5sszBfpJtFWHOgzVFJzqOb7fjAUH/fBv59qP543gs8LcmEf8MryQfSrvWa1hlNU0tWthonARm7dmhxksEZl4XA0S0J+yLd0r8xuyX5BXAx8M2q+kMr348ugYEuOZto9mW8cx5edncusCnwl+H27Rx+Ajx56jO/lRvplny+eop627b3zB+BS6pqyWSxttmoXYGD6WbZPjd2bdgIhpenDroU2GLEfiRJkqR/WBHXYM2vqudX1d/pvvzvmeR8uhmhO9AtZRtzAN31MZ8EhpeyPa/9+8HJDlpVfwE+Q3dt0JgzgV0G6jwXeDiw2YjnchbdF/l/aLM3dwF+M0m73YCxGbezgPskWaPF8MZ2vdGGrb+d6GZUvtXGZ39umSyd3K5P2xF4Zm6+CchC4KDW5nhg5yTb3YZzvgYY9wYQwJvolgSm9XkV8Lckdxuqt2s7/qAjgYcAW09y7LFrsLalu27rsVPESlXdWFUnVdXr6N4jT5iqTUu+59FdCziedejGQZIkSZqWFXab9paQ7AbcparmVdU8uiToFjMuVVXAfwIPSHLPgV030c2e3DPJ66c43LuAZwFz2vZ3gXWSPHugznTWeH0HWC/J2I0r1qS7ruiIsWuPJrAX8HWAqvoN3WzeG8Zm4dpSuLGZlIXAYWNjU1VbAFsk2Waww6o6D3gL8Mok9wDmVtWWA2P65tbXMp1zWyK35nh32auqX9Elio8ZKH478N4k67Zz2hN4MF2SO9j2euDddNeuTRXD5cCrmGLGK8n2LZkcMx+4YIo2c+mS9GPbuQ7vD3Bn4Pyp4pQkSZKGrci/g/VvwHfHbkjQHAc8JsntBiu2JYTvBF4+VH4t8FjgsUkGZ6gYqnc58GXgdm27gMcBD013i/dT6WbJXjlBF9snuWjsAezb4n9ikl/TzXxcC7xminPeHfjewPa/083a/SbJIuBbwCvavv1bzIO+3MqHfYhuNmjhOG2+CCwc8ZyHr2vat5WfQJckjeeN3PJOhO+ju+vh6UnOpkuO92mv4bCPcXPSS5IFST46wXGOpUtqd5sk1rnAJ9ut15cAOwCHTdDfieluv38q3ZLVZw3EsXig3q7Aj6vqhgn6kSRJkiaU7nu4+tbu5veRqnrUTMcyXUl2AV5cVU+d6VhWtCTvAY6vqu9MVu8et9+83rv7eDdVXD3sdexbpq4kSZI0iyU5raoWDJevyBmsWaWqLloVkyuAqvoZ3YzPVDcUWR2dMVVyJUmSJE1kztRVNBtV1cdnOoaZUFUfmekYJEmStOpyBkuSJEmSemKCJUmSJEk9McGSJEmSpJ6YYEmSJElST0ywJEmSJKknJliSJEmS1BNv0y4tgw3vvqV/jFeSJEm34gyWJEmSJPXEBEuSJEmSemKCJUmSJEk9McGSJEmSpJ6YYEmSJElST0ywJEmSJKkn3qZdWgbXXnAhvzzkJTMdRq/u9aF3zXQIkiRJqzxnsCRJkiSpJyZYkiRJktQTEyxJkiRJ6okJliRJkiT1xARLkiRJknpigiVJkiRJPTHBkiRJkqSemGBJkiRJUk9MsCRJkiSpJyZYkiRJktQTEyytMpI8LkkluWfbnpfkjHHqHZFk36GyeUmuSbJ44HFgkqOSPHug3v2TLEmy1vI/I0mSJK1u5sx0ANI0LAR+0P593TK0P7eq5g8WJPkmcEqSLwBXAO8HnlNV19/GWCVJkjQLOYOlVUKSucCDgWcC+/fVb1X9EXgH8DbgEGBJVf2gr/4lSZI0uziDpVXFPsA3quqcJFck2ZVuxmk6tk2yeGD7+VV1MvAh4GnA7sCCPoKVJEnS7GSCpVXFQuA97fnRbfv90+zjVksEAarqpiQfBhZU1YRJW5KDgYMBNp+7wTQPLUmSpNnABEsrvSSbAA8DdkpSwJpAAR/o8TA3tceEqupw4HCAe292p+rx2JIkSVpNeA2WVgX7AkdW1TZVNa+qtgbOA7ae4bgkSZKkWzDB0qpgIfDlobIvAq8Gtk9y0cDjiW3/hwfKTmll2w7dpv0FK+oEJEmSNDu4RFArvaraY5yy9wLvnaDJ5ycoX3eSYxwBHDHd2CRJkqRBzmBJkiRJUk9MsCRJkiSpJyZYkiRJktQTEyxJkiRJ6okJliRJkiT1xARLkiRJknpigiVJkiRJPTHBkiRJkqSemGBJkiRJUk/mzHQA0qponW225l4fetdMhyFJkqSVjDNYkiRJktQTEyxJkiRJ6okJliRJkiT1xARLkiRJknpigiVJkiRJPTHBkiRJkqSeeJt2aRlc/4cLueRtL5npMG6TzV/hbeYlSZL65gyWJEmSJPXEBEuSJEmSemKCJUmSJEk9McGSJEmSpJ6YYEmSJElST0ywJEmSJKknJliSJEmS1BMTLEmSJEnqiQmWJEmSJPXEBEuSJEmSemKCJUmSJEk9McGaIUkOTXJmkiVJFie5fys/KcnvkmSg7rFJlg61f1GSa5NsNFC2e5KvjnOsk5IsmCSWeUmuaXGcleRTSdYa6PPKtm/ssd/A8z8kuXhge+0kmya5PskhQ8c5P8mm7fnS8WIZqHunJF9N8osW09eS7DRwnD8lOa89/3Zrs2OS7yY5O8mvk/zn2DgmOSjJZa3+r5K8eOBYhw2dw+Ikt58sPkmSJGk8c2Y6gNkoyQOBvYFdquq6lnSsPVDlL8A/Az9oX/Q3H6ebhcBPgccDn+ghrHOran6SNYFvAU8Cjmr7Tq6qvYfqf66dy2HA0qp6x9iOJE8Eftxi/NAyxvN64FtV9Z7W585VdTowv20fAXy1qr7QttcFjgeeXVUnJFkP+CLwHOADYzFX1fOS3AE4O8kXqurCtu/dg+cgSZIkLQtnsGbG5sDlVXUdQFVdXlW/H9h/NLB/e/544EuDjZNsC8wFXkuXxPSmqm4ETgW2vA3dLAReCmyZZKtl7GNz4KKBuJZMUf/JwA+r6oRW/2rgecCrhitW1RXAbxg/cZUkSZKWmQnWzDgB2DrJOUk+mOShQ/u/AzykzSbtT5stGrA/XRJ2MrB9kjv1FViSdYD7A98YKN5taPnctpO03xrYvKpOBY4B9lvGUD4AfCzJiW055RZT1N8ROG2woKrOBeYm2XAoxrsA6wCDSduLB87vxPEOkOTgJIuSLLrib9dM+4QkSZK0+jPBmgFVtRTYFTgYuAz4XJKDBqrcCPyALpFat6rOH+piIXB0Vd1EtwzuiT2EtW2SxcAfgUuGZoxOrqr5A49zJ+lnP7rECrokcJlm2Krqm8DdgI8A9wR+nmSzZelrMLYkS+hmrz5YVdcO7Hv3wPntMUFMh1fVgqpacIf1172NoUiSJGl1ZII1Q6rqxqo6qapeR7eU7QlDVY4G3svNyQoASXYCtgO+leR8uiSsj2WC51bVfGBbYNckj13GfhYCB7XYjgd2TrLdsnRUVX+qqs9U1VPprjd7yCTVz6JLWv8hyd3org+7qhV9rqp2Bh4EvCXJnZclLkmSJGkiJlgzIMn2Q0nHfOCCoWonA28GPjtUvhA4rKrmtccWwBZJtukjtqq6nO66pVdPt22SewBzq2rLsfjozmHaCWCSh7UbVZBkA7rE73eTNDkKeHCSPVubdekS1LcNV6yqRcCRwAunG5ckSZI0GROsmTEX+GS7/fgSYAfgsMEK1XlHS3gG7Q98eajsy9x8U4yHJ7lo4PHAVv5/A2WfnyK+Y4H1kuzWtoevwdp3gnYLx4nti4yfYK03FOdLhvbvCixq43MK8NGq+ulEAVfVNcA+wGuTnA2cTjfr9f4JmrwVeHpL3uCW12AtTjJvomNJkiRJE0lVzXQM0irnPlvdqb7xggNmOozbZPNXvGumQ5AkSVplJTmtqm71t2adwZIkSZKknphgSZIkSVJPTLAkSZIkqScmWJIkSZLUExMsSZIkSeqJCZYkSZIk9cQES5IkSZJ6YoIlSZIkST2ZM9MBSKuite68tX+oV5IkSbfiDJYkSZIk9cQES5IkSZJ6YoIlSZIkST0xwZIkSZKknphgSZIkSVJPTLAkSZIkqScmWJIkSZLUE/8OlrQMbvjLJfzpS2+c6TAmtcnjD53pECRJkmYdZ7AkSZIkqScmWJIkSZLUExMsSZIkSeqJCZYkSZIk9cQES5IkSZJ6YoIlSZIkST0xwZIkSZKknphgSZIkSVJPTLAkSZIkqScmWJIkSZLUk1mbYCU5NMmZSZYkWZzk/q18rSRvSfLrJD9LckqSR7V95yfZdKCP3ZN8dWD7ca2/XyY5PcnjBvYlyWtbv+ckOTHJjgP7b9H3FLHPS3JNi/usJB9KssZwPK3uEUn2bc9PSnJ2a/fLJAdPdvwkByV5/8D2gUnOaOf28yQvmyLOg5Jc1o53ZpIvJFlvOK6B+ksHzu+M9vxW5zR0LkuS/CrJ+5PcfoK+KsnzB/a9P8lBA9svaX2cnuQXSd6VZK3Jzk2SJEkaz6xMsJI8ENgb2KWqdgb2BC5su/8fsDlw76raBXgcsMEIfd4HeAewT1XdC3gs8I4kO7cqzwUeBNynqu4BvBk4Psk6y3ga51bVfGBnYIcW5ygOaO3+GXhrkrVHadSSzBcBj6iqnYAHAFeO0PRzVTW/qnYE/g7sN2KcozigvX47A9cBx01Q71LgheOda5JDgEcAD2jn9U+t/ro9xilJkqRZYlYmWHQJ1OVVdR1AVV1eVb9vsyv/ATx/YN8fq+qYEfp8GfCmqjqvtTuPLol6edv/SuB5VXV1238C8CPggNtyIlV1Q+vn7tNsOhf4G3DjiPVfDbysqn7fjntdVX1k1IMlmQOsD/x5mnFOqar+DrwCuEtLdIddBnwHeNo4+w4Fnl1Vfxnrq6reUlVX9R2nJEmSVn+zNcE6Adi6LdX7YJKHtvK7A7+b4sv1iW3J22LgowPlOwKnDdVdBOyYZENg/ar67Xj7l/ksgJYUPhw4fcQmRyVZApwN/L+qGjXBuje3Pr9R7NfG6mJgE+Ary9DHlNp5/AK45wRV3gq8LMmaYwXtdZk7lhRPJcnBSRYlWXTFlX+7zTFLkiRp9TMrE6yqWgrsChxMN7vxucFrcqawR1vyNh/49+UT4Ui2bYnLD4H/q6qvAzVB3cHysWV1d6FLOLZZvmF2SwSBO9MlgWMzeuPFOlH8o8pEO1py+xPgyRM2Th7ZkufzkzxonD4Or6oFVbXgDhutfxtDlSRJ0upoViZY0M14VNVJVfU64HnAE4Df0C0z23AZujyLLmkbtCtwZpsR+1uSu423fxmOBe0arKq6b1Ud1squADYeqrcJcPlw46q6DPgZcP8Rj3cmtz6/kVVV0c1ePaQV3SLWJOPGOao2M7UT8MtJqr2JbqlmWkxXAUuT3LVtf7Mlg2cAI12bJkmSJA2alQlWku2TbDdQNB+4oF0f9THgPWM3REiyWZInjtDtO4BXJ5nX2s0DXgO8s+1/O/DeJOu2/XsCDwY+M0mc90vyqWmc2q+BLZLcq7XfBrgPsHicvtcD7gucO2LfbwbenuTOrf3aSf69PX9ekueN0MeDB453Et3ywbFE5iDgxBFjuYV2x783AxdW1ZKJ6lXVr+gS4ccMFL8Z+N+xOxAmCbCsNx6RJEnSLDdnpgOYIXOB97Uv1TfQzVyN3bL8tcAbgLOSXEt3I4j/mqrDqlqc5JXAV9oX/uuBV1TV4lblfXQzNqcnuRH4A90dB68Z6GZJkpva82Pobl4xuH+qGK5L8hTgE+3uhNcD/15Vg3f7OyrJNcDtgCOqavC6quHj/yNZqaqvJbkT8O2WhBTw8bb7nnRLFcezX5IH0yXzF9ElUlTVV5PsCpzWxuNc4JAJ+nh4kosGtscS3qOSXNfO5dvAPhO0H/RG4OcD2/9Ld/ONn7S+lrZz+fk4bSVJkqRJpVu5pZVRkrcDR042K7MyaH+n6vHtbn6zwvy7b1nffdtzZjqMSW3y+ENnOgRJkqTVVpLTqmrBcPlsncFaJVTVy6euNfOqau+ZjkGSJElaGczKa7AkSZIkaXkwwZIkSZKknphgSZIkSVJPTLAkSZIkqScmWJIkSZLUExMsSZIkSeqJCZYkSZIk9cQES5IkSZJ64h8alpbBnNtvziaPP3Smw5AkSdJKxhksSZIkSeqJCZYkSZIk9cQES5IkSZJ6YoIlSZIkST0xwZIkSZKknphgSZIkSVJPvE27tAxuvOYKrlpy5EyHMakNd37qTIcgSZI06ziDJUmSJEk9McGSJEmSpJ6YYEmSJElST0ywJEmSJKknJliSJEmS1BMTLEmSJEnqiQmWJEmSJPXEBEuSJEmSemKCJUmSJEk9McGSJEmSpJ6YYGlcSW5MsjjJGUm+kuT2rXxekmvavrHHgW3fM5KcnmRJa7dPkg+0OmcNtdu3tTk2yY+Hjn3E2P6BsqXjHP+sJJ9KstZAvTlJLkvylqH2JyVZNLC9oJU9ciCmpUnObs8/1fOQSpIkaRaYM9MBaKV1TVXNB0jySeC5wBvbvnPH9o1JshVwKLBLVV2ZZC6wWVUd1/bPA7462K4lbbsCS5Pcrap+O2Js51bV/CRrAt8CngQc1fb9C3AO8MQkr66qGmh3xySPqqqvjxVU1TeBb7Z4TgJeVlWLkCRJkpaBM1gaxSnAllPUuSPwV2ApQFUtrarzpmjzeOArwNHA/tMNqqpuBE4dim0h8B7gd8ADh5q8nS4JlCRJkpYLEyxNqs0SPRw4fqB426ElgrsBvwD+CJyX5BNJHjNC9wuBz7bHwmWIbR3g/sA3Brb3pEvaxuvzFODvSfaY7rEkSZKkUZhgaSLrJlkM/AG4E91SvDHnVtX8gcfJbTZpL2BfuiV6705y2ESdJ7kTsB3wg6o6B7g+yb3b7hqnyWDZti22PwKXVNWSVr43cGJVXQN8EXhcSxAHvQF47RTnPlHMBydZlGTRFX/+67J0IUmSpNWcCZYmMnYN1jZA6K7BmlR1Tq2qN9Mt+XvCJNWfBGxMN+N1PjCPm2ecrmj7AEiyCXD5QNuxa8C2BXZN8thWvhDYs/V3GnAH4GFDMX4XWBd4wFTnM875HV5VC6pqwR023mC6zSVJkjQLmGBpUlV1NfAC4KVJJrwpSpItkuwyUDQfuGCSrhcCe1XVvKqaR3ezi7HrsE4C9kuydts+CDhxnNguB14FvDrJhsBuwF0G+nwu4y89fAPwiklikyRJkpaJdxHUlKrq50mW0CUrJ3PzEr0xHweOA96RZAvgWuAy4JDx+mt3FNwG+Mft2avqvCRXJrl/VX01ya7AaUluBM6dqC/gWOAw4MXAd6vquoF9xwFvS3K7ofP5WpLLRjl3SZIkaTpyy7tYSxrFfXe8a33vs6+f6TAmteHOT53pECRJklZbSU6rqgXD5S4RlCRJkqSemGBJkiRJUk9MsCRJkiSpJyZYkiRJktQTEyxJkiRJ6okJliRJkiT1xARLkiRJknpigiVJkiRJPTHBkiRJkqSezJnpAKRV0Zrr3oENd37qTIchSZKklYwzWJIkSZLUExMsSZIkSeqJCZYkSZIk9SRVNdMxSKucJH8Fzp7pOFZBmwKXz3QQqxjHbPocs2XjuE2fY7ZsHLfpc8ymb0WM2TZVtdlwoTe5kJbN2VW1YKaDWNUkWeS4TY9jNn2O2bJx3KbPMVs2jtv0OWbTN5Nj5hJBSZIkSeqJCZYkSZIk9cQES1o2h890AKsox236HLPpc8yWjeM2fY7ZsnHcps8xm74ZGzNvciFJkiRJPXEGS5IkSZJ6YoIlSZIkST0xwZKGJNkrydlJfpPkVePsv12Sz7X9P0kyb2Dfq1v52UkeuUIDn0EjjNlLkpyVZEmS7yTZZmDfjUkWt8fxKzbymTXCuB2U5LKB8fn3gX1PS/Lr9njaio185owwZu8eGK9zkvxlYN+sfK8l+XiSS5OcMcH+JHlvG9MlSXYZ2Ddb32dTjdkBbaxOT/KjJPcZ2Hd+K1+cZNGKi3rmjTBuuye5cuBz+F8D+yb9bK+uRhizlw+M1xnt59gmbd+sfK8l2TrJie17xZlJXjhOnZn9uVZVPnz4aA9gTeBc4G7A2sAvgB2G6jwH+FB7vj/wufZ8h1b/dsBdWz9rzvQ5rSRjtgewXnv+7LExa9tLZ/ocVuJxOwh4/zhtNwF+2/7duD3feKbPaWUYs6H6zwc+PrA9W99rDwF2Ac6YYP+jga8DAR4A/KSVz8r32Yhj9qCxsQAeNTZmbft8YNOZPoeVdNx2B746Tvm0Ptur02OqMRuq+xjguwPbs/K9BmwO7NKebwCcM87/nzP6c80ZLOmW7gf8pqp+W1V/B44G9hmqsw/wyfb8C8DDk6SVH11V11XVecBvWn+ruynHrKpOrKqr2+aPga1WcIwro1HeaxN5JPCtqvpTVf0Z+Baw13KKc2Uy3TFbCHx2hUS2Equq7wN/mqTKPsCnqvNj4PZJNmf2vs+mHLOq+lEbE/Bn2j+M8F6byG35ebhKm+aY+TMNqKpLqupn7flfgV8CWw5Vm9GfayZY0i1tCVw4sH0Rt/7Q/qNOVd0AXAncYcS2q6Ppnvcz6X6rNGadJIuS/DjJ45ZDfCurUcftCW15wxeSbD3Ntqubkc+7LUO9K/DdgeLZ+l6bykTjOlvfZ9M1/DOtgBOSnJbk4BmKaWX2wCS/SPL1JDu2Mt9rU0iyHl0i8MWB4ln/Xkt3mcZ9gZ8M7ZrRn2tz+u5QkiaS5CnAAuChA8XbVNXFSe4GfDfJ6VV17sxEuNL5CvDZqrouybPoZk4fNsMxrSr2B75QVTcOlPleU6+S7EGXYD14oPjB7X12R+BbSX7VZikEP6P7HC5N8mjgWGC7mQ1plfEY4IdVNTjbNavfa0nm0iWcL6qqq2Y6nkHOYEm3dDGw9cD2Vq1s3DpJ5gAbAVeM2HZ1NNJ5J9kTOBR4bFVdN1ZeVRe3f38LnET3m6jZYMpxq6orBsbqo8Cuo7ZdTU3nvPdnaCnNLH6vTWWicZ2t77ORJNmZ7nO5T1VdMVY+8D67FPgys2Op+Eiq6qqqWtqefw1YK8mm+F4bxWQ/02bdey3JWnTJ1VFV9aVxqszozzUTLOmWfgpsl+SuSdam+4E2fLex44Gxu87sS3fBabXy/dPdZfCudL+VO3UFxT2TphyzJPcFPkyXXF06UL5xktu155sC/wyctcIin1mjjNvmA5uPpVtnDvBN4BFt/DYGHtHKVnejfD5Jck+6i5dPGSibze+1qRwPHNjuuvUA4MqquoTZ+z6bUpK7AF8CnlpV5wyUr59kg7HndGM27t3hZqMkd27XLJPkfnTfQ69gxM/2bJVkI7qVH8cNlM3a91p7D30M+GVVvWuCajP6c80lgtKAqrohyfPoPmxr0t2B7MwkrwcWVdXxdB/qI5P8hu7C1P1b2zOTHEP3pe0G4LlDy5NWSyOO2duBucDn2/+tv6uqxwL3Aj6c5Ca6/2jfUlWz4kvviOP2giSPpXs//YnuroJU1Z+S/D+6LyUArx9aNrJaGnHMoPtMHt1+8TFm1r7XknyW7u5tmya5CHgdsBZAVX0I+BrdHbd+A1wNPL3tm5XvMxhpzP6L7trbD7afaTdU1QLgTsCXW9kc4DNV9Y0VfgIzZIRx2xd4dpIbgGuA/dvndNzP9gycwgo3wpgB/BtwQlX9baDpbH6v/TPwVOD0JItb2WuAu8DK8XMtt/z/R5IkSZK0rFwiKEmSJEk9McGSJEmSpJ6YYEmSJElST0ywJEmSJKknJliSJEmSZo0kH09yaZKRbm2f5ElJzkpyZpLPTFXfBEuSpBmWpJK8c2D7ZUkO66nvpX30s6L6TrIgyXv77leSBhwB7DVKxSTbAa8G/rmqdgReNFUbEyxJkmbedcDj2x9BXuGSrBR/FzPJnKpaVFUvmOlYJK2+qur7dH9f8h+SbJvkG0lOS3Jy+6P1AP8BfKCq/tzaXjpV/yZYkiTNvBuAw4EXD+9IMi/Jd5MsSfKdJHdp5Uck+d8kP07y2yS7t2Uvv0xyxFAf725LW76TZLNWdlKS/0myCHhhkl2TfK99ufhmks3HieWuSU5JcnqSNwzte3mSn7Y4/3u8k0yyV5KfJflFku+0ssOSHJnkh3R/xH33JF8d2PfJ9mXngiSPT/K2dvxvJFmr1Rs39iQvaMt6liQ5epqviaTZ5XDg+VW1K/Ay4IOt/B7APZL8sP28nXLmywRLkqSVwweAA5JsNFT+PuCTVbUzcBQwuHxuY+CBdInZ8cC7gR2BnZLMb3XWBxa1pS3fA1430H7tqlrQ+nwfsG/7cvFx4I3jxPge4H+raifgkrHCJI8AtgPuB8wHdk3ykMGGLbH7CPCEqroP8MSB3TsAe1bVwnGOuS3wMOCxwKeBE9vxrwH+tSVZE8X+KuC+bewOGadvSSLJXOBBwOeTLAY+DIz9kmkO3c+33YGFwEeS3H6y/laKJQGSJM12VXVVkk8BL6BLHsY8EHh8e34k8LaBfV+pqkpyOvDHqjodIMmZwDxgMXAT8LlW/9PAlwbaj5VvD9wb+FYSgDUZSKAG/DPwhIFY3tqeP6I9ft6259J9Ifn+QNsHAN+vqvPa+Q4uzzm+qgbPedDXq+r6do5rAt9o5ae3c5ws9iXAUUmOBY6doH9JWgP4S1XNH2ffRcBPqup64Lwk59D9fPvpRJ2ZYEmStPL4H+BnwCdGrH9d+/emgedj2xP9H18Dz//W/g1wZlU9cIRj1jhlAd5cVR8eof14/jbJvusAquqmJNdX1djxx85xstj/FXgI8Bjg0CQ7VdUNyxijpNVU+wXXeUmeWFWfT/fbmp2r6hd0v5xZCHyiXSd7D+C3k/XnEkFJklYSbVbnGOCZA8U/AvZvzw8ATp5mt2sA+7bnTwZ+ME6ds4HNkjwQIMlaSXYcp94Ph2IZ803gGW2ZDUm2THLHobY/Bh6S5K6tzibTPI+JjBt7kjWAravqROCVwEZ0M2uSZrkknwVOAbZPclGSZ9L9THtmkl8AZwL7tOrfBK5IchZwIvDyqrpisv6dwZIkaeXyTuB5A9vPp/vN6cuBy4CnT7O/vwH3S/Ja4FJgv+EKVfX3JPsC723XgM2hm007c6jqC4HPJHklcNxA+xOS3As4pS3TWwo8pR1vrM5lSQ4GvtSSn0uBf5nmudzKJLGfA3y6lQV4b1X95bYeT9Kqb4LrPWGcW7e3WfOXtMdIcvNMuyRJkiTptnCJoCRJkiT1xARLkiRJknpigiVJkiRJPTHBkiRJkqSemGBJkiRJUk9MsCRJkiSpJyZYkiRJktST/w/jld/J6QjB1wAAAABJRU5ErkJggg==\n",
       "datasetInfos": [],
       "metadata": {},
       "removedWidgets": [],
       "type": "image"
      }
     },
     "output_type": "display_data"
    }
   ],
   "source": [
    "# Compter les lieux les plus fréquents\n",
    "lieux_counts = df_clean.groupBy(\"Description du lieu\").count().orderBy(\"count\", ascending=False)\n",
    "lieux_counts.show(10)\n",
    "\n",
    "# Visualisation des 10 lieux les plus fréquents\n",
    "lieux_counts_pd = lieux_counts.toPandas()\n",
    "plt.figure(figsize=(12,6))\n",
    "sns.barplot(\n",
    "    data=lieux_counts_pd.head(10),\n",
    "    x=\"count\",\n",
    "    y=\"Description du lieu\",\n",
    "    palette=\"magma\"\n",
    ")\n",
    "plt.xlabel(\"Nombre de crimes\")\n",
    "plt.ylabel(\"Lieu\")\n",
    "plt.title(\"Top 10 des lieux les plus fréquents pour les infractions\")\n",
    "plt.tight_layout()\n",
    "plt.show()"
   ]
  }
 ],
 "metadata": {
  "application/vnd.databricks.v1+notebook": {
   "computePreferences": null,
   "dashboards": [],
   "environmentMetadata": {
    "base_environment": "",
    "environment_version": "2"
   },
   "inputWidgetPreferences": null,
   "language": "python",
   "notebookMetadata": {
    "pythonIndentUnit": 4
   },
   "notebookName": "Crimes_Analysis",
   "widgets": {}
  },
  "language_info": {
   "name": "python"
  }
 },
 "nbformat": 4,
 "nbformat_minor": 0
}
